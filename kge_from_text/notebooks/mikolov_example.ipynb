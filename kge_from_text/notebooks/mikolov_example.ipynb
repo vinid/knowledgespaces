{
 "cells": [
  {
   "cell_type": "markdown",
   "metadata": {
    "collapsed": true
   },
   "source": [
    "## Example of Analogical Reasoning Using The Test Set Provided by Mikolov et al."
   ]
  },
  {
   "cell_type": "markdown",
   "metadata": {},
   "source": [
    "We will use only part of the dataset provided, since it can not be tested as a whole by our model"
   ]
  },
  {
   "cell_type": "code",
   "execution_count": 1,
   "metadata": {},
   "outputs": [],
   "source": [
    "import os\n",
    "import sys\n",
    "sys.path.append(os.getcwd() + \"/../../\") # notebooks are in a folder inside the project\n",
    "from kge_from_text import folder_definitions as fd\n",
    "#from IPython.core.interactiveshell import InteractiveShell\n",
    "#InteractiveShell.ast_node_interactivity = \"all\""
   ]
  },
  {
   "cell_type": "markdown",
   "metadata": {},
   "source": [
    "Here we define some handy variables for later"
   ]
  },
  {
   "cell_type": "code",
   "execution_count": 2,
   "metadata": {},
   "outputs": [],
   "source": [
    "entity_vector_name = \"2016_data/entity_vectors\"\n",
    "entity_vector_no_min = \"2016_data/entity_vectors_no_min\"\n",
    "type_vector_name = \"2016_data/type_vectors\"\n",
    "conactenated_name = \"2016_data/concatenated_vectors\"\n",
    "conactenated_name_time = \"2016_data/concatenated_vectors_time\"\n",
    "temporal_csv = \"2016_data/temporal_vectors.csv\"\n",
    "\n",
    "annotated_entity_file = \"2016_data/annotated_text_with_entities\"\n",
    "annotated_type_file = \"2016_data/annotated_text_with_types\"\n",
    "type_of_entity_file = \"2016_data/type_to_entity_data.ttl\""
   ]
  },
  {
   "cell_type": "markdown",
   "metadata": {},
   "source": [
    "## Models can be generated using input files or can be loaded (if they already exists)"
   ]
  },
  {
   "cell_type": "code",
   "execution_count": 3,
   "metadata": {},
   "outputs": [
    {
     "name": "stdout",
     "output_type": "stream",
     "text": [
      "Model Already Exists. Use Override Option\n",
      "ModelAlreadyLoaded. Create New Object\n"
     ]
    },
    {
     "ename": "ModelAlreadyExistsException",
     "evalue": "",
     "output_type": "error",
     "traceback": [
      "\u001b[0;31m---------------------------------------------------------------------------\u001b[0m",
      "\u001b[0;31mModelAlreadyExistsException\u001b[0m               Traceback (most recent call last)",
      "\u001b[0;32m<ipython-input-3-e4f08c996eeb>\u001b[0m in \u001b[0;36m<module>\u001b[0;34m()\u001b[0m\n\u001b[1;32m      3\u001b[0m \u001b[0;34m\u001b[0m\u001b[0m\n\u001b[1;32m      4\u001b[0m \u001b[0mmodel_e\u001b[0m \u001b[0;34m=\u001b[0m \u001b[0mtt\u001b[0m\u001b[0;34m.\u001b[0m\u001b[0mTermEmbedding\u001b[0m\u001b[0;34m(\u001b[0m\u001b[0;34m\"entity\"\u001b[0m\u001b[0;34m)\u001b[0m\u001b[0;34m\u001b[0m\u001b[0m\n\u001b[0;32m----> 5\u001b[0;31m \u001b[0mmodel_e\u001b[0m\u001b[0;34m.\u001b[0m\u001b[0mfit\u001b[0m\u001b[0;34m(\u001b[0m\u001b[0minput_text\u001b[0m\u001b[0;34m=\u001b[0m\u001b[0mfd\u001b[0m\u001b[0;34m.\u001b[0m\u001b[0mSTARTING_DATA_ROOT\u001b[0m \u001b[0;34m+\u001b[0m \u001b[0mannotated_entity_file\u001b[0m\u001b[0;34m,\u001b[0m \u001b[0moutput_file_path\u001b[0m\u001b[0;34m=\u001b[0m\u001b[0mfd\u001b[0m\u001b[0;34m.\u001b[0m\u001b[0mPRODUCED_MODELS_ROOT\u001b[0m\u001b[0;34m+\u001b[0m \u001b[0;34m\"2016_data/\"\u001b[0m\u001b[0;34m,\u001b[0m \u001b[0m_iter\u001b[0m\u001b[0;34m=\u001b[0m\u001b[0;36m15\u001b[0m\u001b[0;34m)\u001b[0m\u001b[0;34m\u001b[0m\u001b[0m\n\u001b[0m",
      "\u001b[0;32m~/PycharmProjects/kge_from_text/kge_from_text/notebooks/../../kge_from_text/models/term_embeddings.py\u001b[0m in \u001b[0;36mfit\u001b[0;34m(self, input_text, output_file_path, _size, _window, _min_count, _workers, _sg, _iter, override_if_exists, load_model_if_exits)\u001b[0m\n\u001b[1;32m     61\u001b[0m \u001b[0;34m\u001b[0m\u001b[0m\n\u001b[1;32m     62\u001b[0m         \u001b[0;32mif\u001b[0m \u001b[0mcheck_file\u001b[0m\u001b[0;34m.\u001b[0m\u001b[0mis_file\u001b[0m\u001b[0;34m(\u001b[0m\u001b[0;34m)\u001b[0m \u001b[0;32mand\u001b[0m \u001b[0moverride_if_exists\u001b[0m \u001b[0;32mis\u001b[0m \u001b[0;32mFalse\u001b[0m\u001b[0;34m:\u001b[0m\u001b[0;34m\u001b[0m\u001b[0m\n\u001b[0;32m---> 63\u001b[0;31m             \u001b[0;32mraise\u001b[0m \u001b[0mModelAlreadyExistsException\u001b[0m\u001b[0;34m\u001b[0m\u001b[0m\n\u001b[0m\u001b[1;32m     64\u001b[0m \u001b[0;34m\u001b[0m\u001b[0m\n\u001b[1;32m     65\u001b[0m         \u001b[0;32mwith\u001b[0m \u001b[0mopen\u001b[0m\u001b[0;34m(\u001b[0m\u001b[0minput_text\u001b[0m\u001b[0;34m)\u001b[0m \u001b[0;32mas\u001b[0m \u001b[0mf\u001b[0m\u001b[0;34m:\u001b[0m\u001b[0;34m\u001b[0m\u001b[0m\n",
      "\u001b[0;31mModelAlreadyExistsException\u001b[0m: "
     ]
    }
   ],
   "source": [
    "# ENTITY\n",
    "import kge_from_text.models.term_embeddings as tt\n",
    "\n",
    "model_e = tt.TermEmbedding(\"entity\")\n",
    "model_e.fit(input_text=fd.STARTING_DATA_ROOT + annotated_entity_file, output_file_path=fd.PRODUCED_MODELS_ROOT+ \"2016_data/\", _iter=15, _min_count=0)"
   ]
  },
  {
   "cell_type": "code",
   "execution_count": 5,
   "metadata": {},
   "outputs": [],
   "source": [
    "# TYPE\n",
    "import kge_from_text.models.term_embeddings as tt\n",
    "\n",
    "model_t = tt.TermEmbedding(\"entity_no_min\")\n",
    "model_t.fit(input_text=fd.STARTING_DATA_ROOT + annotated_entity_file, output_file_path=fd.PRODUCED_MODELS_ROOT+ \"2016_data/\", _min_count=0)"
   ]
  },
  {
   "cell_type": "code",
   "execution_count": 30,
   "metadata": {},
   "outputs": [],
   "source": [
    "import kge_from_text.models.term_embeddings as tt\n",
    "model_e = tt.TermEmbedding(\"entity\")\n",
    "model_e.load_model(fd.PRODUCED_MODELS_ROOT + \"2016_data/entity:s100:w5\")"
   ]
  },
  {
   "cell_type": "code",
   "execution_count": 6,
   "metadata": {},
   "outputs": [],
   "source": [
    "import kge_from_text.models.term_embeddings as tt\n",
    "model_t = tt.TermEmbedding(\"type\")\n",
    "model_t.load_model(fd.PRODUCED_MODELS_ROOT + \"2016_data/type:s100:w5\")"
   ]
  },
  {
   "cell_type": "code",
   "execution_count": 30,
   "metadata": {},
   "outputs": [
    {
     "name": "stderr",
     "output_type": "stream",
     "text": [
      "/home/vinid/.local/lib/python3.5/site-packages/ipykernel_launcher.py:1: DeprecationWarning: Call to deprecated `similarity` (Method will be removed in 4.0.0, use self.wv.similarity() instead).\n",
      "  \"\"\"Entry point for launching an IPython kernel.\n"
     ]
    },
    {
     "data": {
      "text/plain": [
       "0.43692619871461541"
      ]
     },
     "execution_count": 30,
     "metadata": {},
     "output_type": "execute_result"
    }
   ],
   "source": [
    "model_t.model.similarity(\"Wood\", \"Forest\")"
   ]
  },
  {
   "cell_type": "code",
   "execution_count": null,
   "metadata": {},
   "outputs": [],
   "source": []
  },
  {
   "cell_type": "code",
   "execution_count": 29,
   "metadata": {},
   "outputs": [],
   "source": [
    "del tee"
   ]
  },
  {
   "cell_type": "code",
   "execution_count": 3,
   "metadata": {},
   "outputs": [
    {
     "name": "stdout",
     "output_type": "stream",
     "text": [
      "Model Already Exists. Use Override Option\n",
      "ModelAlreadyLoaded. Create New Object\n"
     ]
    }
   ],
   "source": [
    "# Concatenate Both Models\n",
    "import kge_from_text.models.tee_embeddings as tee\n",
    "\n",
    "tee = tee.TeeEmbedding(\"tee\")\n",
    "tee.load_model(\"/home/vinid/Documenti/models/teeentity:s100:w5type:s100:w5\")"
   ]
  },
  {
   "cell_type": "markdown",
   "metadata": {},
   "source": [
    "## Entity embeddings and type embeddings can be concatenated in a single model"
   ]
  },
  {
   "cell_type": "code",
   "execution_count": null,
   "metadata": {},
   "outputs": [],
   "source": [
    "# Concatenate Both Models\n",
    "import kge_from_text.models.tee_embeddings as tee\n",
    "\n",
    "tee = tee.TeeEmbedding(\"tee\")\n",
    "tee.fit(fd.PRODUCED_MODELS_ROOT + \"2016_data/\" , model_e, model_t, fd.STARTING_DATA_ROOT + type_of_entity_file)"
   ]
  },
  {
   "cell_type": "markdown",
   "metadata": {},
   "source": [
    "# Import Bridge\n",
    "\n",
    "The bridge is the disambiguation tool that can be used to link word in the gold standard to entities"
   ]
  },
  {
   "cell_type": "code",
   "execution_count": 7,
   "metadata": {},
   "outputs": [],
   "source": [
    "import kge_from_text.bridges.bridge as bridge\n",
    "\n",
    "br = bridge.Bridge(fd.STARTING_DATA_ROOT + \"2016_data/spotlight_dbpedia_bridge\", fd.STARTING_DATA_ROOT + type_of_entity_file, model_e.model, model_t.model)"
   ]
  },
  {
   "cell_type": "code",
   "execution_count": null,
   "metadata": {},
   "outputs": [],
   "source": [
    "import kge_from_text.bridges.clean_bridge as bridge\n",
    "\n",
    "cbr = bridge.CleanBridge()"
   ]
  },
  {
   "cell_type": "code",
   "execution_count": null,
   "metadata": {},
   "outputs": [],
   "source": [
    "br.analogy_disambiguation_test(\"Canada\", \"dollar\", \"Italy\", 0.8, 0.2, multiplicative=True, ignore_w=True)\n",
    "#Chisinau Moldova Conakry\n",
    "#Nigeria naira Cambodia\n",
    "#br.bridge[br.bridge[\"phrase\"] == \"zloty\"]\n",
    "#br.find_and_count(\"Rome\")"
   ]
  },
  {
   "cell_type": "code",
   "execution_count": null,
   "metadata": {},
   "outputs": [],
   "source": [
    "br.find_and_count(\"dollar\")"
   ]
  },
  {
   "cell_type": "markdown",
   "metadata": {},
   "source": [
    "## Load Analogies, normal or annotated dataset"
   ]
  },
  {
   "cell_type": "code",
   "execution_count": null,
   "metadata": {},
   "outputs": [],
   "source": [
    "import pandas as pd\n",
    "\n",
    "analogies_word = pd.read_csv(fd.GOLD_STANDARDS + \"mikolov\", names=[\"First\", \"Second\", \"Third\", \"Fourth\"], sep=\" \")\n",
    "analogies_annotated = pd.read_csv(fd.GOLD_STANDARDS + \"annotated_mikolov\", names=[\"First\", \"Second\", \"Third\", \"Fourth\"], sep=\" \")"
   ]
  },
  {
   "cell_type": "code",
   "execution_count": null,
   "metadata": {},
   "outputs": [],
   "source": [
    "analogies_currency = pd.read_csv(fd.GOLD_STANDARDS + \"annotated_currency\", names=[\"First\", \"Second\", \"Third\", \"Fourth\"], sep=\" \")\n",
    "analogies_currency_no_anno = pd.read_csv(fd.GOLD_STANDARDS + \"currency\", names=[\"First\", \"Second\", \"Third\", \"Fourth\"], sep=\" \")"
   ]
  },
  {
   "cell_type": "code",
   "execution_count": null,
   "metadata": {},
   "outputs": [],
   "source": [
    "br.analogy_disambiguation(\"Matrix\", \"Reeves\", \"Mission Impossible\", weight_1=0.75, weight_2=0.25)"
   ]
  },
  {
   "cell_type": "markdown",
   "metadata": {},
   "source": [
    "## Define an evaluator and an handler and run the experiment"
   ]
  },
  {
   "cell_type": "code",
   "execution_count": null,
   "metadata": {},
   "outputs": [],
   "source": [
    "import kge_from_text.evaluators.analogy_evaluator as aer\n",
    "\n",
    "analogy_eval = aer.AnalogyEvaluator(br, tee, analogies_word)"
   ]
  },
  {
   "cell_type": "code",
   "execution_count": null,
   "metadata": {},
   "outputs": [],
   "source": [
    "from kge_from_text.evaluators.evaluator_handler import EvaluatorHandler\n",
    "\n",
    "evalu = EvaluatorHandler(fd.EVALUATION_RESULTS_ROOT, name=\"TEEMP-currency\")\n",
    "evalu.run_evaluation(analogy_eval)"
   ]
  },
  {
   "cell_type": "code",
   "execution_count": null,
   "metadata": {},
   "outputs": [],
   "source": [
    "# ENTITY\n",
    "import kge_from_text.models.term_embeddings as tt\n",
    "\n",
    "model_e = tt.TermEmbedding(\"entity\")\n",
    "model_e.fit(input_text=fd.STARTING_DATA_ROOT + annotated_entity_file, \n",
    "            output_file_path=fd.PRODUCED_MODELS_ROOT+ \"2016_data/\", _iter=15, _workers=4, _size=100, _window=3)"
   ]
  },
  {
   "cell_type": "code",
   "execution_count": null,
   "metadata": {},
   "outputs": [],
   "source": [
    "import kge_from_text.models.term_embeddings as tt\n",
    "from kge_from_text.evaluators.analogy_evaluator import AnalogyEvaluator\n",
    "from kge_from_text.evaluators.evaluator_handler import EvaluatorHandler\n",
    "\n",
    "analogies_currency = pd.read_csv(fd.GOLD_STANDARDS + \"annotated_currency\", names=[\"First\", \"Second\", \"Third\", \"Fourth\"], sep=\" \")\n",
    "analogies_annotated = pd.read_csv(fd.GOLD_STANDARDS + \"annotated_mikolov\", names=[\"First\", \"Second\", \"Third\", \"Fourth\"], sep=\" \")\n",
    "\n",
    "\n",
    "evalu = EvaluatorHandler(fd.EVALUATION_RESULTS_ROOT, name=\"MANY-currency\")\n",
    "for win, size in [(3, 200), (5, 200), (3, 300), (5, 300)]:\n",
    "# ENTITY\n",
    "    model_e = tt.TermEmbedding(\"entity\")\n",
    "    model_e.fit(input_text=fd.STARTING_DATA_ROOT + annotated_entity_file, \n",
    "                output_file_path=fd.PRODUCED_MODELS_ROOT+ \"2016_data/\", _iter=15, _workers=4, _size=size, _window=win)\n",
    "    \n",
    "    analogy_eval = AnalogyEvaluator(cbr, model_e, analogies_currency)\n",
    "    \n",
    "    evalu.run_evaluation(analogy_eval)\n",
    "    \n",
    "    analogy_eval = AnalogyEvaluator(cbr, model_e, analogies_annotated)\n",
    "    \n",
    "    evalu.run_evaluation(analogy_eval)"
   ]
  },
  {
   "cell_type": "code",
   "execution_count": null,
   "metadata": {},
   "outputs": [],
   "source": [
    "path = \"/home/vinid/nuncodes/GoogleNews-vectors-negative300.bin\"\n",
    "import gensim \n",
    "model = gensim.models.KeyedVectors.load_word2vec_format(path, binary=True)"
   ]
  },
  {
   "cell_type": "code",
   "execution_count": null,
   "metadata": {},
   "outputs": [],
   "source": [
    "del model"
   ]
  },
  {
   "cell_type": "code",
   "execution_count": null,
   "metadata": {},
   "outputs": [],
   "source": [
    "# ENTITY\n",
    "import kge_from_text.models.term_embeddings as tt\n",
    "\n",
    "model_e = tt.TermEmbedding(\"text\")\n",
    "model_e.model = model"
   ]
  },
  {
   "cell_type": "code",
   "execution_count": null,
   "metadata": {},
   "outputs": [],
   "source": [
    "import kge_from_text.models.term_embeddings as tt\n",
    "from kge_from_text.evaluators.analogy_evaluator import AnalogyEvaluator\n",
    "from kge_from_text.evaluators.evaluator_handler import EvaluatorHandler\n",
    "import pandas as pd \n",
    "analogies_currency = pd.read_csv(fd.GOLD_STANDARDS + \"currency\", names=[\"First\", \"Second\", \"Third\", \"Fourth\"], sep=\" \")\n",
    "analogies_annotated = pd.read_csv(fd.GOLD_STANDARDS + \"mikolov\", names=[\"First\", \"Second\", \"Third\", \"Fourth\"], sep=\" \")\n",
    "\n",
    "\n",
    "evalu = EvaluatorHandler(fd.EVALUATION_RESULTS_ROOT, name=\"MANY-currency\")\n",
    "# ENTITY\n",
    "\n",
    "analogy_eval = AnalogyEvaluator(cbr, model_e, analogies_currency)\n",
    "\n",
    "evalu.run_evaluation(analogy_eval)\n",
    "\n",
    "analogy_eval = AnalogyEvaluator(cbr, model_e, analogies_annotated)\n",
    "\n",
    "evalu.run_evaluation(analogy_eval)"
   ]
  },
  {
   "cell_type": "code",
   "execution_count": null,
   "metadata": {},
   "outputs": [],
   "source": [
    "lista = list(zip(analogies_word.values.tolist(),analogies_annotated.values.tolist()))\n",
    "good = 0\n",
    "total = 0\n",
    "for a, b in lista:\n",
    "    na, nb, nc = br.analogy_disambiguation(a[0], a[1], a[2])\n",
    "    if na == b[0] and nb == b[1] and nc == b[2]:\n",
    "        good = good + 1\n",
    "    total = total + 1"
   ]
  },
  {
   "cell_type": "code",
   "execution_count": null,
   "metadata": {},
   "outputs": [],
   "source": [
    "good/total"
   ]
  },
  {
   "cell_type": "code",
   "execution_count": null,
   "metadata": {},
   "outputs": [],
   "source": [
    "good/total"
   ]
  },
  {
   "cell_type": "code",
   "execution_count": null,
   "metadata": {},
   "outputs": [],
   "source": [
    "7497*0.9551820728291317 + 866*0.77251"
   ]
  },
  {
   "cell_type": "code",
   "execution_count": null,
   "metadata": {},
   "outputs": [],
   "source": [
    "7829.99366/8363"
   ]
  },
  {
   "cell_type": "code",
   "execution_count": null,
   "metadata": {},
   "outputs": [],
   "source": [
    "lista = list(zip(analogies_currency_no_anno.values.tolist(),analogies_currency.values.tolist()))\n",
    "good = 0\n",
    "total = 0\n",
    "for a, b in lista:\n",
    "    na, nb, nc = br.analogy_disambiguation(a[0], a[1], a[2])\n",
    "    if na == b[0] and nb == b[1] and nc == b[2]:\n",
    "        good = good + 1\n",
    "    total = total + 1"
   ]
  },
  {
   "cell_type": "code",
   "execution_count": 30,
   "metadata": {},
   "outputs": [
    {
     "data": {
      "text/plain": [
       "0.99417240262471707"
      ]
     },
     "execution_count": 30,
     "metadata": {},
     "output_type": "execute_result"
    }
   ],
   "source": [
    "from scipy.spatial.distance import cosine\n",
    "\n",
    "1 - cosine([9, 1], [9, 2])"
   ]
  },
  {
   "cell_type": "code",
   "execution_count": 13,
   "metadata": {},
   "outputs": [],
   "source": [
    "import kge_from_text.bridges.bridge as bridge\n",
    "\n",
    "br = bridge.TableLinkingBridge(fd.STARTING_DATA_ROOT + \"2016_data/spotlight_dbpedia_bridge\", fd.STARTING_DATA_ROOT + type_of_entity_file, model_e.model, model_t.model, tee)"
   ]
  },
  {
   "cell_type": "code",
   "execution_count": 6,
   "metadata": {},
   "outputs": [],
   "source": [
    "import pandas as pd\n",
    "import itertools\n",
    "from kge_from_text.utils import helpers\n",
    "from scipy.spatial.distance import cosine\n",
    "\n",
    "\n",
    "import numpy as np\n",
    "class TableLinkingBridge:\n",
    "    \"\"\"\n",
    "    This class handles bridging from word to entities\n",
    "    \"\"\"\n",
    "    def __init__(self, bridge_location, entity_to_type_location, model_entities, model_types, tee):\n",
    "        \"\"\"\n",
    "        :param bridge_location: location of the bridge file\n",
    "        :param entity_to_type_location: location of the file that connects entity with types\n",
    "        :param model_entities: embedding model of the entities\n",
    "        :param model_types: embedding model of the types\n",
    "        \"\"\"\n",
    "        self.bridge = pd.read_csv(bridge_location, sep=\"\\t\", names=[\"phrase\", \"entity\", \"count\"])\n",
    "\n",
    "        self.map_entity_type = pd.read_csv(entity_to_type_location, header=None, delimiter=r\"\\s+\",\n",
    "                                           names=[\"Subject\", \"Property\", \"Object\", \"Point\"])\n",
    "\n",
    "        # Remove unused columns\n",
    "        self.map_entity_type = self.map_entity_type.drop('Property', 1)\n",
    "        self.map_entity_type = self.map_entity_type.drop('Point', 1)\n",
    "\n",
    "        self.map_entity_type = self.map_entity_type.set_index('Subject')\n",
    "\n",
    "        # Remove duplicated types\n",
    "        self.map_entity_type = self.map_entity_type[~self.map_entity_type.index.duplicated(keep='first')]\n",
    "        self.map_entity_type = self.map_entity_type['Object'].to_dict()\n",
    "\n",
    "        self.model_entities = model_entities\n",
    "        self.mode_types = model_types\n",
    "\n",
    "        self.dict_of_default_mappings = {\"United_Kingdom\" : \"England\"}\n",
    "\n",
    "        self.tee = tee\n",
    "\n",
    "    def get_back(self, entity):\n",
    "        \"\"\"\n",
    "        Given an entity, returns the matching word using the get back approach\n",
    "\n",
    "        :param entity:\n",
    "        :return:\n",
    "\n",
    "        >>> self.get_back(\"Barack_Obama\")\n",
    "        \"Barack Obama\"\n",
    "\n",
    "        >>> self.get_back(\"Paris,_Texas\")\n",
    "        \"Paris\"\n",
    "\n",
    "        >>> self.get_back(\"Paris\")\n",
    "        \"Paris\"\n",
    "\n",
    "        \"\"\"\n",
    "        if len(self.bridge[self.bridge[\"phrase\"] == entity].values.tolist()) > 0:\n",
    "            return self.bridge[self.bridge[\"phrase\"] == entity][\"phrase\"].values[0]\n",
    "        else:\n",
    "            return self.bridge[self.bridge[\"entity\"] == entity].sort_values(by=[\"count\"],\n",
    "                                                                            ascending=False)[\"phrase\"].values[0]\n",
    "\n",
    "    def find_and_count(self, entity):\n",
    "        operation = self.bridge[self.bridge[\"phrase\"] == entity]\n",
    "        find = operation[\"entity\"].values.tolist()\n",
    "        count = 0\n",
    "        if find:\n",
    "            count = helpers.softmax(operation[\"count\"].values.tolist())\n",
    "        if len(find) == 0:\n",
    "            inner_op = self.bridge[self.bridge[\"phrase\"].str.contains(entity)]\n",
    "            find = inner_op[\"entity\"].values.tolist()\n",
    "            if len(find) == 0:\n",
    "                inner_op = self.bridge[self.bridge[\"phrase\"].str.contains(entity, case=False)]\n",
    "                find = inner_op[\"entity\"].values.tolist()\n",
    "            count = helpers.softmax(inner_op[\"count\"].values.tolist())\n",
    "        ordering = zip(find, count)\n",
    "        rrr = list(reversed(sorted(ordering, key=lambda x: x[1])))\n",
    "        find, count = zip(*rrr)\n",
    "        return find, count\n",
    "\n",
    "    def analogy_disambiguation(self, first, second, third, fourth, weight_1=1, weight_2 = 1,\n",
    "                               weight_3 = 1, weight_4 = 1, weight_5 = 1, multiplicative = False):\n",
    "        \"\"\"\n",
    "        This function implements a method to disambiguate three elements using a cross-similarity approach.\n",
    "\n",
    "        :param first: first element of the analogy\n",
    "        :param second: second element of the analogy\n",
    "        :param third: third element of the analogy\n",
    "        :return:\n",
    "        \"\"\"\n",
    "        \n",
    "        first_code, first_count = self.find_and_count(first)\n",
    "        second_code, second_count = self.find_and_count(second)\n",
    "        third_code, third_count = self.find_and_count(third)\n",
    "        fourth_code, fourth_count = self.find_and_count(fourth)\n",
    "\n",
    "        first_code = zip(first_code, first_count)\n",
    "        second_code = zip(second_code, second_count)\n",
    "        third_code = zip(third_code, third_count)\n",
    "        fourth_code = zip(fourth_code, fourth_count)\n",
    "\n",
    "        combinations = list(itertools.product(first_code, second_code, third_code, fourth_code))\n",
    "\n",
    "        return_list = []\n",
    "        for first_t, second_t, third_t, fourth_t in combinations:\n",
    "            first = first_t[0]\n",
    "            second = second_t[0]\n",
    "            third = third_t[0]\n",
    "            fourth = fourth_t[0]\n",
    "\n",
    "            c_first = first_t[1]\n",
    "            c_second = second_t[1]\n",
    "            c_third = third_t[1]\n",
    "            c_fourth = fourth_t[1]\n",
    "\n",
    "            try:\n",
    "\n",
    "                first_a = first\n",
    "                second_a = second\n",
    "                third_a = third\n",
    "                fourth_a = fourth\n",
    "\n",
    "                sim_a_b = self.model_entities.similarity(first_a, second_a)\n",
    "                sim_t_a_c = self.mode_types.similarity(self.entity_to_type(first_a), self.entity_to_type(third_a))\n",
    "\n",
    "                sim_c_d = self.model_entities.similarity(third_a, fourth_a)\n",
    "                sim_t_b_d = self.mode_types.similarity(self.entity_to_type(second_a), self.entity_to_type(fourth_a))\n",
    "\n",
    "                \n",
    "                if multiplicative:\n",
    "                    w_factor = (c_first * c_second * c_third * c_fourth)\n",
    "                else:\n",
    "                    w_factor = (c_first + c_second + c_third + c_fourth)\n",
    "\n",
    "                first_analogy_factor = self.tee[second_a] - self.tee[first_a] + self.tee[third_a]\n",
    "                second_analogy_factor = self.tee[fourth_a]\n",
    "                \n",
    "                factor = 1 - cosine(first_analogy_factor, second_analogy_factor)\n",
    "                \n",
    "                return_list.append(((first, second, third, fourth),\n",
    "                                    (np.average([sim_a_b, sim_t_a_c,\n",
    "                                                sim_c_d, sim_t_b_d\n",
    "                                                ],\n",
    "                                    weights=[weight_1,\n",
    "                                             weight_2,\n",
    "                                             weight_3,\n",
    "                                             weight_4,\n",
    "                                             ]) * factor)*w_factor,\n",
    "                                    factor, w_factor,\n",
    "                                    c_first, c_second, c_third, c_fourth))\n",
    "\n",
    "            except Exception as e:\n",
    "                pass\n",
    "\n",
    "        return list(reversed(sorted(return_list, key=lambda x: x[1])))[0:10]\n",
    "\n",
    "    def entity_to_type(self, entity):\n",
    "        \"\"\"\n",
    "        Function used to get the specific type for an entity\n",
    "\n",
    "        :param entity: entity in input\n",
    "        :return: the type of the entity, if found. Returns owl#Thing otherwise\n",
    "\n",
    "        >>> self.entity_to_type(\"Barack_Obama\")\n",
    "        \"Politician\"\n",
    "\n",
    "        \"\"\"\n",
    "        if entity in self.dict_of_default_mappings:\n",
    "            return self.dict_of_default_mappings[entity]\n",
    "\n",
    "        try:\n",
    "            type_res = self.map_entity_type['<http://dbpedia.org/resource/' + entity + '>']\n",
    "            type_res = type_res.replace(\">\", \"\")\n",
    "            type_res = type_res.replace(\"<http://dbpedia.org/ontology/\", \"\")\n",
    "            type_res = type_res.replace(\"<http://www.w3.org/2002/07/\", \"\")\n",
    "            return type_res\n",
    "        except:\n",
    "            return \"owl#Thing\"\n"
   ]
  },
  {
   "cell_type": "code",
   "execution_count": 7,
   "metadata": {},
   "outputs": [],
   "source": [
    "import kge_from_text.bridges.bridge as bridge\n",
    "\n",
    "br = TableLinkingBridge(fd.STARTING_DATA_ROOT + \"2016_data/spotlight_dbpedia_bridge\", \n",
    "                        fd.STARTING_DATA_ROOT + type_of_entity_file, \n",
    "                        model_e.model, model_t.model, tee.model)"
   ]
  },
  {
   "cell_type": "code",
   "execution_count": 72,
   "metadata": {},
   "outputs": [
    {
     "data": {
      "text/html": [
       "<div>\n",
       "<style>\n",
       "    .dataframe thead tr:only-child th {\n",
       "        text-align: right;\n",
       "    }\n",
       "\n",
       "    .dataframe thead th {\n",
       "        text-align: left;\n",
       "    }\n",
       "\n",
       "    .dataframe tbody tr th {\n",
       "        vertical-align: top;\n",
       "    }\n",
       "</style>\n",
       "<table border=\"1\" class=\"dataframe\">\n",
       "  <thead>\n",
       "    <tr style=\"text-align: right;\">\n",
       "      <th></th>\n",
       "      <th>phrase</th>\n",
       "      <th>entity</th>\n",
       "      <th>count</th>\n",
       "    </tr>\n",
       "  </thead>\n",
       "  <tbody>\n",
       "    <tr>\n",
       "      <th>1227584</th>\n",
       "      <td>M*A*S*H</td>\n",
       "      <td>Goodbye,_Farewell_and_Amen</td>\n",
       "      <td>2</td>\n",
       "    </tr>\n",
       "    <tr>\n",
       "      <th>1227585</th>\n",
       "      <td>M*A*S*H</td>\n",
       "      <td>M*A*S*H</td>\n",
       "      <td>4</td>\n",
       "    </tr>\n",
       "    <tr>\n",
       "      <th>1227586</th>\n",
       "      <td>M*A*S*H</td>\n",
       "      <td>M*A*S*H_(TV_series)</td>\n",
       "      <td>130</td>\n",
       "    </tr>\n",
       "    <tr>\n",
       "      <th>1227587</th>\n",
       "      <td>M*A*S*H</td>\n",
       "      <td>M*A*S*H_(novels)</td>\n",
       "      <td>6</td>\n",
       "    </tr>\n",
       "    <tr>\n",
       "      <th>1227588</th>\n",
       "      <td>M*A*S*H</td>\n",
       "      <td>MASH_(film)</td>\n",
       "      <td>22</td>\n",
       "    </tr>\n",
       "    <tr>\n",
       "      <th>1227589</th>\n",
       "      <td>M*A*S*H (TV series)</td>\n",
       "      <td>M*A*S*H_(TV_series)</td>\n",
       "      <td>2</td>\n",
       "    </tr>\n",
       "    <tr>\n",
       "      <th>1227590</th>\n",
       "      <td>M*A*S*H Mania</td>\n",
       "      <td>M*A*S*H_Mania</td>\n",
       "      <td>3</td>\n",
       "    </tr>\n",
       "    <tr>\n",
       "      <th>1227591</th>\n",
       "      <td>M*A*S*H novels</td>\n",
       "      <td>M*A*S*H_(novels)</td>\n",
       "      <td>1</td>\n",
       "    </tr>\n",
       "    <tr>\n",
       "      <th>1227592</th>\n",
       "      <td>M*A*S*H*</td>\n",
       "      <td>M*A*S*H_(TV_series)</td>\n",
       "      <td>1</td>\n",
       "    </tr>\n",
       "    <tr>\n",
       "      <th>1735316</th>\n",
       "      <td>S*M*A*S*H</td>\n",
       "      <td>Smash_(band)</td>\n",
       "      <td>1</td>\n",
       "    </tr>\n",
       "  </tbody>\n",
       "</table>\n",
       "</div>"
      ],
      "text/plain": [
       "                      phrase                      entity  count\n",
       "1227584              M*A*S*H  Goodbye,_Farewell_and_Amen      2\n",
       "1227585              M*A*S*H                     M*A*S*H      4\n",
       "1227586              M*A*S*H         M*A*S*H_(TV_series)    130\n",
       "1227587              M*A*S*H            M*A*S*H_(novels)      6\n",
       "1227588              M*A*S*H                 MASH_(film)     22\n",
       "1227589  M*A*S*H (TV series)         M*A*S*H_(TV_series)      2\n",
       "1227590        M*A*S*H Mania               M*A*S*H_Mania      3\n",
       "1227591       M*A*S*H novels            M*A*S*H_(novels)      1\n",
       "1227592             M*A*S*H*         M*A*S*H_(TV_series)      1\n",
       "1735316            S*M*A*S*H                Smash_(band)      1"
      ]
     },
     "execution_count": 72,
     "metadata": {},
     "output_type": "execute_result"
    }
   ],
   "source": [
    "br.bridge[br.bridge[\"phrase\"].str.contains(\"m\\*a\\*s\\*h\", case=False)]"
   ]
  },
  {
   "cell_type": "code",
   "execution_count": 64,
   "metadata": {},
   "outputs": [
    {
     "data": {
      "text/html": [
       "<div>\n",
       "<style>\n",
       "    .dataframe thead tr:only-child th {\n",
       "        text-align: right;\n",
       "    }\n",
       "\n",
       "    .dataframe thead th {\n",
       "        text-align: left;\n",
       "    }\n",
       "\n",
       "    .dataframe tbody tr th {\n",
       "        vertical-align: top;\n",
       "    }\n",
       "</style>\n",
       "<table border=\"1\" class=\"dataframe\">\n",
       "  <thead>\n",
       "    <tr style=\"text-align: right;\">\n",
       "      <th></th>\n",
       "      <th>phrase</th>\n",
       "      <th>entity</th>\n",
       "      <th>count</th>\n",
       "    </tr>\n",
       "  </thead>\n",
       "  <tbody>\n",
       "    <tr>\n",
       "      <th>1227584</th>\n",
       "      <td>M*A*S*H</td>\n",
       "      <td>Goodbye,_Farewell_and_Amen</td>\n",
       "      <td>2</td>\n",
       "    </tr>\n",
       "    <tr>\n",
       "      <th>1227585</th>\n",
       "      <td>M*A*S*H</td>\n",
       "      <td>M*A*S*H</td>\n",
       "      <td>4</td>\n",
       "    </tr>\n",
       "    <tr>\n",
       "      <th>1227586</th>\n",
       "      <td>M*A*S*H</td>\n",
       "      <td>M*A*S*H_(TV_series)</td>\n",
       "      <td>130</td>\n",
       "    </tr>\n",
       "    <tr>\n",
       "      <th>1227587</th>\n",
       "      <td>M*A*S*H</td>\n",
       "      <td>M*A*S*H_(novels)</td>\n",
       "      <td>6</td>\n",
       "    </tr>\n",
       "    <tr>\n",
       "      <th>1227588</th>\n",
       "      <td>M*A*S*H</td>\n",
       "      <td>MASH_(film)</td>\n",
       "      <td>22</td>\n",
       "    </tr>\n",
       "  </tbody>\n",
       "</table>\n",
       "</div>"
      ],
      "text/plain": [
       "          phrase                      entity  count\n",
       "1227584  M*A*S*H  Goodbye,_Farewell_and_Amen      2\n",
       "1227585  M*A*S*H                     M*A*S*H      4\n",
       "1227586  M*A*S*H         M*A*S*H_(TV_series)    130\n",
       "1227587  M*A*S*H            M*A*S*H_(novels)      6\n",
       "1227588  M*A*S*H                 MASH_(film)     22"
      ]
     },
     "execution_count": 64,
     "metadata": {},
     "output_type": "execute_result"
    }
   ],
   "source": [
    "br.bridge[br.bridge[\"phrase\"] == \"M*A*S*H\"]"
   ]
  },
  {
   "cell_type": "code",
   "execution_count": 66,
   "metadata": {
    "scrolled": true
   },
   "outputs": [
    {
     "name": "stderr",
     "output_type": "stream",
     "text": [
      "/home/vinid/.local/lib/python3.5/site-packages/sklearn/utils/validation.py:475: DataConversionWarning: Data with input dtype int64 was converted to float64 by MinMaxScaler.\n",
      "  warnings.warn(msg, DataConversionWarning)\n"
     ]
    },
    {
     "data": {
      "text/plain": [
       "786860"
      ]
     },
     "execution_count": 66,
     "metadata": {},
     "output_type": "execute_result"
    }
   ],
   "source": [
    "len(br.find_and_count(\"m*a*s*h\")[0])"
   ]
  },
  {
   "cell_type": "code",
   "execution_count": 57,
   "metadata": {},
   "outputs": [
    {
     "ename": "ValueError",
     "evalue": "Found array with 0 sample(s) (shape=(0, 1)) while a minimum of 1 is required by MinMaxScaler.",
     "output_type": "error",
     "traceback": [
      "\u001b[0;31m---------------------------------------------------------------------------\u001b[0m",
      "\u001b[0;31mValueError\u001b[0m                                Traceback (most recent call last)",
      "\u001b[0;32m<ipython-input-57-55ada5eb7ee9>\u001b[0m in \u001b[0;36m<module>\u001b[0;34m()\u001b[0m\n\u001b[0;32m----> 1\u001b[0;31m \u001b[0mlen\u001b[0m\u001b[0;34m(\u001b[0m\u001b[0mbr\u001b[0m\u001b[0;34m.\u001b[0m\u001b[0mfind_and_count\u001b[0m\u001b[0;34m(\u001b[0m\u001b[0;34m\"Titus Flavius Sabinus Vespasianus\"\u001b[0m\u001b[0;34m)\u001b[0m\u001b[0;34m)\u001b[0m\u001b[0;34m\u001b[0m\u001b[0m\n\u001b[0m",
      "\u001b[0;32m<ipython-input-6-83a5c95b3347>\u001b[0m in \u001b[0;36mfind_and_count\u001b[0;34m(self, entity)\u001b[0m\n\u001b[1;32m     74\u001b[0m                 \u001b[0minner_op\u001b[0m \u001b[0;34m=\u001b[0m \u001b[0mself\u001b[0m\u001b[0;34m.\u001b[0m\u001b[0mbridge\u001b[0m\u001b[0;34m[\u001b[0m\u001b[0mself\u001b[0m\u001b[0;34m.\u001b[0m\u001b[0mbridge\u001b[0m\u001b[0;34m[\u001b[0m\u001b[0;34m\"phrase\"\u001b[0m\u001b[0;34m]\u001b[0m\u001b[0;34m.\u001b[0m\u001b[0mstr\u001b[0m\u001b[0;34m.\u001b[0m\u001b[0mcontains\u001b[0m\u001b[0;34m(\u001b[0m\u001b[0mentity\u001b[0m\u001b[0;34m,\u001b[0m \u001b[0mcase\u001b[0m\u001b[0;34m=\u001b[0m\u001b[0;32mFalse\u001b[0m\u001b[0;34m)\u001b[0m\u001b[0;34m]\u001b[0m\u001b[0;34m\u001b[0m\u001b[0m\n\u001b[1;32m     75\u001b[0m                 \u001b[0mfind\u001b[0m \u001b[0;34m=\u001b[0m \u001b[0minner_op\u001b[0m\u001b[0;34m[\u001b[0m\u001b[0;34m\"entity\"\u001b[0m\u001b[0;34m]\u001b[0m\u001b[0;34m.\u001b[0m\u001b[0mvalues\u001b[0m\u001b[0;34m.\u001b[0m\u001b[0mtolist\u001b[0m\u001b[0;34m(\u001b[0m\u001b[0;34m)\u001b[0m\u001b[0;34m\u001b[0m\u001b[0m\n\u001b[0;32m---> 76\u001b[0;31m             \u001b[0mcount\u001b[0m \u001b[0;34m=\u001b[0m \u001b[0mhelpers\u001b[0m\u001b[0;34m.\u001b[0m\u001b[0msoftmax\u001b[0m\u001b[0;34m(\u001b[0m\u001b[0minner_op\u001b[0m\u001b[0;34m[\u001b[0m\u001b[0;34m\"count\"\u001b[0m\u001b[0;34m]\u001b[0m\u001b[0;34m.\u001b[0m\u001b[0mvalues\u001b[0m\u001b[0;34m.\u001b[0m\u001b[0mtolist\u001b[0m\u001b[0;34m(\u001b[0m\u001b[0;34m)\u001b[0m\u001b[0;34m)\u001b[0m\u001b[0;34m\u001b[0m\u001b[0m\n\u001b[0m\u001b[1;32m     77\u001b[0m         \u001b[0mordering\u001b[0m \u001b[0;34m=\u001b[0m \u001b[0mzip\u001b[0m\u001b[0;34m(\u001b[0m\u001b[0mfind\u001b[0m\u001b[0;34m,\u001b[0m \u001b[0mcount\u001b[0m\u001b[0;34m)\u001b[0m\u001b[0;34m\u001b[0m\u001b[0m\n\u001b[1;32m     78\u001b[0m         \u001b[0mrrr\u001b[0m \u001b[0;34m=\u001b[0m \u001b[0mlist\u001b[0m\u001b[0;34m(\u001b[0m\u001b[0mreversed\u001b[0m\u001b[0;34m(\u001b[0m\u001b[0msorted\u001b[0m\u001b[0;34m(\u001b[0m\u001b[0mordering\u001b[0m\u001b[0;34m,\u001b[0m \u001b[0mkey\u001b[0m\u001b[0;34m=\u001b[0m\u001b[0;32mlambda\u001b[0m \u001b[0mx\u001b[0m\u001b[0;34m:\u001b[0m \u001b[0mx\u001b[0m\u001b[0;34m[\u001b[0m\u001b[0;36m1\u001b[0m\u001b[0;34m]\u001b[0m\u001b[0;34m)\u001b[0m\u001b[0;34m)\u001b[0m\u001b[0;34m)\u001b[0m\u001b[0;34m\u001b[0m\u001b[0m\n",
      "\u001b[0;32m~/PycharmProjects/kge_from_text/kge_from_text/notebooks/../../kge_from_text/utils/helpers.py\u001b[0m in \u001b[0;36msoftmax\u001b[0;34m(x)\u001b[0m\n\u001b[1;32m      3\u001b[0m \u001b[0;34m\u001b[0m\u001b[0m\n\u001b[1;32m      4\u001b[0m \u001b[0;32mdef\u001b[0m \u001b[0msoftmax\u001b[0m\u001b[0;34m(\u001b[0m\u001b[0mx\u001b[0m\u001b[0;34m)\u001b[0m\u001b[0;34m:\u001b[0m\u001b[0;34m\u001b[0m\u001b[0m\n\u001b[0;32m----> 5\u001b[0;31m     \u001b[0;32mreturn\u001b[0m \u001b[0mMinMaxScaler\u001b[0m\u001b[0;34m(\u001b[0m\u001b[0;34m)\u001b[0m\u001b[0;34m.\u001b[0m\u001b[0mfit_transform\u001b[0m\u001b[0;34m(\u001b[0m\u001b[0mnp\u001b[0m\u001b[0;34m.\u001b[0m\u001b[0marray\u001b[0m\u001b[0;34m(\u001b[0m\u001b[0mx\u001b[0m\u001b[0;34m)\u001b[0m\u001b[0;34m.\u001b[0m\u001b[0mreshape\u001b[0m\u001b[0;34m(\u001b[0m\u001b[0;34m-\u001b[0m\u001b[0;36m1\u001b[0m\u001b[0;34m,\u001b[0m \u001b[0;36m1\u001b[0m\u001b[0;34m)\u001b[0m\u001b[0;34m)\u001b[0m\u001b[0;34m.\u001b[0m\u001b[0mflatten\u001b[0m\u001b[0;34m(\u001b[0m\u001b[0;34m)\u001b[0m\u001b[0;34m\u001b[0m\u001b[0m\n\u001b[0m\u001b[1;32m      6\u001b[0m \u001b[0;34m\u001b[0m\u001b[0m\n",
      "\u001b[0;32m~/.local/lib/python3.5/site-packages/sklearn/base.py\u001b[0m in \u001b[0;36mfit_transform\u001b[0;34m(self, X, y, **fit_params)\u001b[0m\n\u001b[1;32m    515\u001b[0m         \u001b[0;32mif\u001b[0m \u001b[0my\u001b[0m \u001b[0;32mis\u001b[0m \u001b[0;32mNone\u001b[0m\u001b[0;34m:\u001b[0m\u001b[0;34m\u001b[0m\u001b[0m\n\u001b[1;32m    516\u001b[0m             \u001b[0;31m# fit method of arity 1 (unsupervised transformation)\u001b[0m\u001b[0;34m\u001b[0m\u001b[0;34m\u001b[0m\u001b[0m\n\u001b[0;32m--> 517\u001b[0;31m             \u001b[0;32mreturn\u001b[0m \u001b[0mself\u001b[0m\u001b[0;34m.\u001b[0m\u001b[0mfit\u001b[0m\u001b[0;34m(\u001b[0m\u001b[0mX\u001b[0m\u001b[0;34m,\u001b[0m \u001b[0;34m**\u001b[0m\u001b[0mfit_params\u001b[0m\u001b[0;34m)\u001b[0m\u001b[0;34m.\u001b[0m\u001b[0mtransform\u001b[0m\u001b[0;34m(\u001b[0m\u001b[0mX\u001b[0m\u001b[0;34m)\u001b[0m\u001b[0;34m\u001b[0m\u001b[0m\n\u001b[0m\u001b[1;32m    518\u001b[0m         \u001b[0;32melse\u001b[0m\u001b[0;34m:\u001b[0m\u001b[0;34m\u001b[0m\u001b[0m\n\u001b[1;32m    519\u001b[0m             \u001b[0;31m# fit method of arity 2 (supervised transformation)\u001b[0m\u001b[0;34m\u001b[0m\u001b[0;34m\u001b[0m\u001b[0m\n",
      "\u001b[0;32m~/.local/lib/python3.5/site-packages/sklearn/preprocessing/data.py\u001b[0m in \u001b[0;36mfit\u001b[0;34m(self, X, y)\u001b[0m\n\u001b[1;32m    306\u001b[0m         \u001b[0;31m# Reset internal state before fitting\u001b[0m\u001b[0;34m\u001b[0m\u001b[0;34m\u001b[0m\u001b[0m\n\u001b[1;32m    307\u001b[0m         \u001b[0mself\u001b[0m\u001b[0;34m.\u001b[0m\u001b[0m_reset\u001b[0m\u001b[0;34m(\u001b[0m\u001b[0;34m)\u001b[0m\u001b[0;34m\u001b[0m\u001b[0m\n\u001b[0;32m--> 308\u001b[0;31m         \u001b[0;32mreturn\u001b[0m \u001b[0mself\u001b[0m\u001b[0;34m.\u001b[0m\u001b[0mpartial_fit\u001b[0m\u001b[0;34m(\u001b[0m\u001b[0mX\u001b[0m\u001b[0;34m,\u001b[0m \u001b[0my\u001b[0m\u001b[0;34m)\u001b[0m\u001b[0;34m\u001b[0m\u001b[0m\n\u001b[0m\u001b[1;32m    309\u001b[0m \u001b[0;34m\u001b[0m\u001b[0m\n\u001b[1;32m    310\u001b[0m     \u001b[0;32mdef\u001b[0m \u001b[0mpartial_fit\u001b[0m\u001b[0;34m(\u001b[0m\u001b[0mself\u001b[0m\u001b[0;34m,\u001b[0m \u001b[0mX\u001b[0m\u001b[0;34m,\u001b[0m \u001b[0my\u001b[0m\u001b[0;34m=\u001b[0m\u001b[0;32mNone\u001b[0m\u001b[0;34m)\u001b[0m\u001b[0;34m:\u001b[0m\u001b[0;34m\u001b[0m\u001b[0m\n",
      "\u001b[0;32m~/.local/lib/python3.5/site-packages/sklearn/preprocessing/data.py\u001b[0m in \u001b[0;36mpartial_fit\u001b[0;34m(self, X, y)\u001b[0m\n\u001b[1;32m    332\u001b[0m \u001b[0;34m\u001b[0m\u001b[0m\n\u001b[1;32m    333\u001b[0m         X = check_array(X, copy=self.copy, warn_on_dtype=True,\n\u001b[0;32m--> 334\u001b[0;31m                         estimator=self, dtype=FLOAT_DTYPES)\n\u001b[0m\u001b[1;32m    335\u001b[0m \u001b[0;34m\u001b[0m\u001b[0m\n\u001b[1;32m    336\u001b[0m         \u001b[0mdata_min\u001b[0m \u001b[0;34m=\u001b[0m \u001b[0mnp\u001b[0m\u001b[0;34m.\u001b[0m\u001b[0mmin\u001b[0m\u001b[0;34m(\u001b[0m\u001b[0mX\u001b[0m\u001b[0;34m,\u001b[0m \u001b[0maxis\u001b[0m\u001b[0;34m=\u001b[0m\u001b[0;36m0\u001b[0m\u001b[0;34m)\u001b[0m\u001b[0;34m\u001b[0m\u001b[0m\n",
      "\u001b[0;32m~/.local/lib/python3.5/site-packages/sklearn/utils/validation.py\u001b[0m in \u001b[0;36mcheck_array\u001b[0;34m(array, accept_sparse, dtype, order, copy, force_all_finite, ensure_2d, allow_nd, ensure_min_samples, ensure_min_features, warn_on_dtype, estimator)\u001b[0m\n\u001b[1;32m    460\u001b[0m                              \u001b[0;34m\" minimum of %d is required%s.\"\u001b[0m\u001b[0;34m\u001b[0m\u001b[0m\n\u001b[1;32m    461\u001b[0m                              % (n_samples, shape_repr, ensure_min_samples,\n\u001b[0;32m--> 462\u001b[0;31m                                 context))\n\u001b[0m\u001b[1;32m    463\u001b[0m \u001b[0;34m\u001b[0m\u001b[0m\n\u001b[1;32m    464\u001b[0m     \u001b[0;32mif\u001b[0m \u001b[0mensure_min_features\u001b[0m \u001b[0;34m>\u001b[0m \u001b[0;36m0\u001b[0m \u001b[0;32mand\u001b[0m \u001b[0marray\u001b[0m\u001b[0;34m.\u001b[0m\u001b[0mndim\u001b[0m \u001b[0;34m==\u001b[0m \u001b[0;36m2\u001b[0m\u001b[0;34m:\u001b[0m\u001b[0;34m\u001b[0m\u001b[0m\n",
      "\u001b[0;31mValueError\u001b[0m: Found array with 0 sample(s) (shape=(0, 1)) while a minimum of 1 is required by MinMaxScaler."
     ]
    }
   ],
   "source": [
    "len(br.find_and_count(\"Titus Flavius Sabinus Vespasianus\"))"
   ]
  },
  {
   "cell_type": "code",
   "execution_count": 55,
   "metadata": {},
   "outputs": [
    {
     "name": "stderr",
     "output_type": "stream",
     "text": [
      "/home/vinid/.local/lib/python3.5/site-packages/sklearn/utils/validation.py:475: DataConversionWarning: Data with input dtype int64 was converted to float64 by MinMaxScaler.\n",
      "  warnings.warn(msg, DataConversionWarning)\n"
     ]
    },
    {
     "ename": "ValueError",
     "evalue": "Found array with 0 sample(s) (shape=(0, 1)) while a minimum of 1 is required by MinMaxScaler.",
     "output_type": "error",
     "traceback": [
      "\u001b[0;31m---------------------------------------------------------------------------\u001b[0m",
      "\u001b[0;31mValueError\u001b[0m                                Traceback (most recent call last)",
      "\u001b[0;32m<ipython-input-55-4fe15a34cdd6>\u001b[0m in \u001b[0;36m<module>\u001b[0;34m()\u001b[0m\n\u001b[1;32m      3\u001b[0m                           \u001b[0mweight_2\u001b[0m\u001b[0;34m=\u001b[0m\u001b[0;36m1\u001b[0m\u001b[0;34m,\u001b[0m\u001b[0;34m\u001b[0m\u001b[0m\n\u001b[1;32m      4\u001b[0m                           \u001b[0mweight_3\u001b[0m \u001b[0;34m=\u001b[0m \u001b[0;36m1\u001b[0m\u001b[0;34m,\u001b[0m\u001b[0;34m\u001b[0m\u001b[0m\n\u001b[0;32m----> 5\u001b[0;31m                           weight_4 = 1)\n\u001b[0m",
      "\u001b[0;32m<ipython-input-6-83a5c95b3347>\u001b[0m in \u001b[0;36manalogy_disambiguation\u001b[0;34m(self, first, second, third, fourth, weight_1, weight_2, weight_3, weight_4, weight_5, multiplicative)\u001b[0m\n\u001b[1;32m     94\u001b[0m         \u001b[0msecond_code\u001b[0m\u001b[0;34m,\u001b[0m \u001b[0msecond_count\u001b[0m \u001b[0;34m=\u001b[0m \u001b[0mself\u001b[0m\u001b[0;34m.\u001b[0m\u001b[0mfind_and_count\u001b[0m\u001b[0;34m(\u001b[0m\u001b[0msecond\u001b[0m\u001b[0;34m)\u001b[0m\u001b[0;34m\u001b[0m\u001b[0m\n\u001b[1;32m     95\u001b[0m         \u001b[0mthird_code\u001b[0m\u001b[0;34m,\u001b[0m \u001b[0mthird_count\u001b[0m \u001b[0;34m=\u001b[0m \u001b[0mself\u001b[0m\u001b[0;34m.\u001b[0m\u001b[0mfind_and_count\u001b[0m\u001b[0;34m(\u001b[0m\u001b[0mthird\u001b[0m\u001b[0;34m)\u001b[0m\u001b[0;34m\u001b[0m\u001b[0m\n\u001b[0;32m---> 96\u001b[0;31m         \u001b[0mfourth_code\u001b[0m\u001b[0;34m,\u001b[0m \u001b[0mfourth_count\u001b[0m \u001b[0;34m=\u001b[0m \u001b[0mself\u001b[0m\u001b[0;34m.\u001b[0m\u001b[0mfind_and_count\u001b[0m\u001b[0;34m(\u001b[0m\u001b[0mfourth\u001b[0m\u001b[0;34m)\u001b[0m\u001b[0;34m\u001b[0m\u001b[0m\n\u001b[0m\u001b[1;32m     97\u001b[0m \u001b[0;34m\u001b[0m\u001b[0m\n\u001b[1;32m     98\u001b[0m         \u001b[0mfirst_code\u001b[0m \u001b[0;34m=\u001b[0m \u001b[0mzip\u001b[0m\u001b[0;34m(\u001b[0m\u001b[0mfirst_code\u001b[0m\u001b[0;34m,\u001b[0m \u001b[0mfirst_count\u001b[0m\u001b[0;34m)\u001b[0m\u001b[0;34m\u001b[0m\u001b[0m\n",
      "\u001b[0;32m<ipython-input-6-83a5c95b3347>\u001b[0m in \u001b[0;36mfind_and_count\u001b[0;34m(self, entity)\u001b[0m\n\u001b[1;32m     74\u001b[0m                 \u001b[0minner_op\u001b[0m \u001b[0;34m=\u001b[0m \u001b[0mself\u001b[0m\u001b[0;34m.\u001b[0m\u001b[0mbridge\u001b[0m\u001b[0;34m[\u001b[0m\u001b[0mself\u001b[0m\u001b[0;34m.\u001b[0m\u001b[0mbridge\u001b[0m\u001b[0;34m[\u001b[0m\u001b[0;34m\"phrase\"\u001b[0m\u001b[0;34m]\u001b[0m\u001b[0;34m.\u001b[0m\u001b[0mstr\u001b[0m\u001b[0;34m.\u001b[0m\u001b[0mcontains\u001b[0m\u001b[0;34m(\u001b[0m\u001b[0mentity\u001b[0m\u001b[0;34m,\u001b[0m \u001b[0mcase\u001b[0m\u001b[0;34m=\u001b[0m\u001b[0;32mFalse\u001b[0m\u001b[0;34m)\u001b[0m\u001b[0;34m]\u001b[0m\u001b[0;34m\u001b[0m\u001b[0m\n\u001b[1;32m     75\u001b[0m                 \u001b[0mfind\u001b[0m \u001b[0;34m=\u001b[0m \u001b[0minner_op\u001b[0m\u001b[0;34m[\u001b[0m\u001b[0;34m\"entity\"\u001b[0m\u001b[0;34m]\u001b[0m\u001b[0;34m.\u001b[0m\u001b[0mvalues\u001b[0m\u001b[0;34m.\u001b[0m\u001b[0mtolist\u001b[0m\u001b[0;34m(\u001b[0m\u001b[0;34m)\u001b[0m\u001b[0;34m\u001b[0m\u001b[0m\n\u001b[0;32m---> 76\u001b[0;31m             \u001b[0mcount\u001b[0m \u001b[0;34m=\u001b[0m \u001b[0mhelpers\u001b[0m\u001b[0;34m.\u001b[0m\u001b[0msoftmax\u001b[0m\u001b[0;34m(\u001b[0m\u001b[0minner_op\u001b[0m\u001b[0;34m[\u001b[0m\u001b[0;34m\"count\"\u001b[0m\u001b[0;34m]\u001b[0m\u001b[0;34m.\u001b[0m\u001b[0mvalues\u001b[0m\u001b[0;34m.\u001b[0m\u001b[0mtolist\u001b[0m\u001b[0;34m(\u001b[0m\u001b[0;34m)\u001b[0m\u001b[0;34m)\u001b[0m\u001b[0;34m\u001b[0m\u001b[0m\n\u001b[0m\u001b[1;32m     77\u001b[0m         \u001b[0mordering\u001b[0m \u001b[0;34m=\u001b[0m \u001b[0mzip\u001b[0m\u001b[0;34m(\u001b[0m\u001b[0mfind\u001b[0m\u001b[0;34m,\u001b[0m \u001b[0mcount\u001b[0m\u001b[0;34m)\u001b[0m\u001b[0;34m\u001b[0m\u001b[0m\n\u001b[1;32m     78\u001b[0m         \u001b[0mrrr\u001b[0m \u001b[0;34m=\u001b[0m \u001b[0mlist\u001b[0m\u001b[0;34m(\u001b[0m\u001b[0mreversed\u001b[0m\u001b[0;34m(\u001b[0m\u001b[0msorted\u001b[0m\u001b[0;34m(\u001b[0m\u001b[0mordering\u001b[0m\u001b[0;34m,\u001b[0m \u001b[0mkey\u001b[0m\u001b[0;34m=\u001b[0m\u001b[0;32mlambda\u001b[0m \u001b[0mx\u001b[0m\u001b[0;34m:\u001b[0m \u001b[0mx\u001b[0m\u001b[0;34m[\u001b[0m\u001b[0;36m1\u001b[0m\u001b[0;34m]\u001b[0m\u001b[0;34m)\u001b[0m\u001b[0;34m)\u001b[0m\u001b[0;34m)\u001b[0m\u001b[0;34m\u001b[0m\u001b[0m\n",
      "\u001b[0;32m~/PycharmProjects/kge_from_text/kge_from_text/notebooks/../../kge_from_text/utils/helpers.py\u001b[0m in \u001b[0;36msoftmax\u001b[0;34m(x)\u001b[0m\n\u001b[1;32m      3\u001b[0m \u001b[0;34m\u001b[0m\u001b[0m\n\u001b[1;32m      4\u001b[0m \u001b[0;32mdef\u001b[0m \u001b[0msoftmax\u001b[0m\u001b[0;34m(\u001b[0m\u001b[0mx\u001b[0m\u001b[0;34m)\u001b[0m\u001b[0;34m:\u001b[0m\u001b[0;34m\u001b[0m\u001b[0m\n\u001b[0;32m----> 5\u001b[0;31m     \u001b[0;32mreturn\u001b[0m \u001b[0mMinMaxScaler\u001b[0m\u001b[0;34m(\u001b[0m\u001b[0;34m)\u001b[0m\u001b[0;34m.\u001b[0m\u001b[0mfit_transform\u001b[0m\u001b[0;34m(\u001b[0m\u001b[0mnp\u001b[0m\u001b[0;34m.\u001b[0m\u001b[0marray\u001b[0m\u001b[0;34m(\u001b[0m\u001b[0mx\u001b[0m\u001b[0;34m)\u001b[0m\u001b[0;34m.\u001b[0m\u001b[0mreshape\u001b[0m\u001b[0;34m(\u001b[0m\u001b[0;34m-\u001b[0m\u001b[0;36m1\u001b[0m\u001b[0;34m,\u001b[0m \u001b[0;36m1\u001b[0m\u001b[0;34m)\u001b[0m\u001b[0;34m)\u001b[0m\u001b[0;34m.\u001b[0m\u001b[0mflatten\u001b[0m\u001b[0;34m(\u001b[0m\u001b[0;34m)\u001b[0m\u001b[0;34m\u001b[0m\u001b[0m\n\u001b[0m\u001b[1;32m      6\u001b[0m \u001b[0;34m\u001b[0m\u001b[0m\n",
      "\u001b[0;32m~/.local/lib/python3.5/site-packages/sklearn/base.py\u001b[0m in \u001b[0;36mfit_transform\u001b[0;34m(self, X, y, **fit_params)\u001b[0m\n\u001b[1;32m    515\u001b[0m         \u001b[0;32mif\u001b[0m \u001b[0my\u001b[0m \u001b[0;32mis\u001b[0m \u001b[0;32mNone\u001b[0m\u001b[0;34m:\u001b[0m\u001b[0;34m\u001b[0m\u001b[0m\n\u001b[1;32m    516\u001b[0m             \u001b[0;31m# fit method of arity 1 (unsupervised transformation)\u001b[0m\u001b[0;34m\u001b[0m\u001b[0;34m\u001b[0m\u001b[0m\n\u001b[0;32m--> 517\u001b[0;31m             \u001b[0;32mreturn\u001b[0m \u001b[0mself\u001b[0m\u001b[0;34m.\u001b[0m\u001b[0mfit\u001b[0m\u001b[0;34m(\u001b[0m\u001b[0mX\u001b[0m\u001b[0;34m,\u001b[0m \u001b[0;34m**\u001b[0m\u001b[0mfit_params\u001b[0m\u001b[0;34m)\u001b[0m\u001b[0;34m.\u001b[0m\u001b[0mtransform\u001b[0m\u001b[0;34m(\u001b[0m\u001b[0mX\u001b[0m\u001b[0;34m)\u001b[0m\u001b[0;34m\u001b[0m\u001b[0m\n\u001b[0m\u001b[1;32m    518\u001b[0m         \u001b[0;32melse\u001b[0m\u001b[0;34m:\u001b[0m\u001b[0;34m\u001b[0m\u001b[0m\n\u001b[1;32m    519\u001b[0m             \u001b[0;31m# fit method of arity 2 (supervised transformation)\u001b[0m\u001b[0;34m\u001b[0m\u001b[0;34m\u001b[0m\u001b[0m\n",
      "\u001b[0;32m~/.local/lib/python3.5/site-packages/sklearn/preprocessing/data.py\u001b[0m in \u001b[0;36mfit\u001b[0;34m(self, X, y)\u001b[0m\n\u001b[1;32m    306\u001b[0m         \u001b[0;31m# Reset internal state before fitting\u001b[0m\u001b[0;34m\u001b[0m\u001b[0;34m\u001b[0m\u001b[0m\n\u001b[1;32m    307\u001b[0m         \u001b[0mself\u001b[0m\u001b[0;34m.\u001b[0m\u001b[0m_reset\u001b[0m\u001b[0;34m(\u001b[0m\u001b[0;34m)\u001b[0m\u001b[0;34m\u001b[0m\u001b[0m\n\u001b[0;32m--> 308\u001b[0;31m         \u001b[0;32mreturn\u001b[0m \u001b[0mself\u001b[0m\u001b[0;34m.\u001b[0m\u001b[0mpartial_fit\u001b[0m\u001b[0;34m(\u001b[0m\u001b[0mX\u001b[0m\u001b[0;34m,\u001b[0m \u001b[0my\u001b[0m\u001b[0;34m)\u001b[0m\u001b[0;34m\u001b[0m\u001b[0m\n\u001b[0m\u001b[1;32m    309\u001b[0m \u001b[0;34m\u001b[0m\u001b[0m\n\u001b[1;32m    310\u001b[0m     \u001b[0;32mdef\u001b[0m \u001b[0mpartial_fit\u001b[0m\u001b[0;34m(\u001b[0m\u001b[0mself\u001b[0m\u001b[0;34m,\u001b[0m \u001b[0mX\u001b[0m\u001b[0;34m,\u001b[0m \u001b[0my\u001b[0m\u001b[0;34m=\u001b[0m\u001b[0;32mNone\u001b[0m\u001b[0;34m)\u001b[0m\u001b[0;34m:\u001b[0m\u001b[0;34m\u001b[0m\u001b[0m\n",
      "\u001b[0;32m~/.local/lib/python3.5/site-packages/sklearn/preprocessing/data.py\u001b[0m in \u001b[0;36mpartial_fit\u001b[0;34m(self, X, y)\u001b[0m\n\u001b[1;32m    332\u001b[0m \u001b[0;34m\u001b[0m\u001b[0m\n\u001b[1;32m    333\u001b[0m         X = check_array(X, copy=self.copy, warn_on_dtype=True,\n\u001b[0;32m--> 334\u001b[0;31m                         estimator=self, dtype=FLOAT_DTYPES)\n\u001b[0m\u001b[1;32m    335\u001b[0m \u001b[0;34m\u001b[0m\u001b[0m\n\u001b[1;32m    336\u001b[0m         \u001b[0mdata_min\u001b[0m \u001b[0;34m=\u001b[0m \u001b[0mnp\u001b[0m\u001b[0;34m.\u001b[0m\u001b[0mmin\u001b[0m\u001b[0;34m(\u001b[0m\u001b[0mX\u001b[0m\u001b[0;34m,\u001b[0m \u001b[0maxis\u001b[0m\u001b[0;34m=\u001b[0m\u001b[0;36m0\u001b[0m\u001b[0;34m)\u001b[0m\u001b[0;34m\u001b[0m\u001b[0m\n",
      "\u001b[0;32m~/.local/lib/python3.5/site-packages/sklearn/utils/validation.py\u001b[0m in \u001b[0;36mcheck_array\u001b[0;34m(array, accept_sparse, dtype, order, copy, force_all_finite, ensure_2d, allow_nd, ensure_min_samples, ensure_min_features, warn_on_dtype, estimator)\u001b[0m\n\u001b[1;32m    460\u001b[0m                              \u001b[0;34m\" minimum of %d is required%s.\"\u001b[0m\u001b[0;34m\u001b[0m\u001b[0m\n\u001b[1;32m    461\u001b[0m                              % (n_samples, shape_repr, ensure_min_samples,\n\u001b[0;32m--> 462\u001b[0;31m                                 context))\n\u001b[0m\u001b[1;32m    463\u001b[0m \u001b[0;34m\u001b[0m\u001b[0m\n\u001b[1;32m    464\u001b[0m     \u001b[0;32mif\u001b[0m \u001b[0mensure_min_features\u001b[0m \u001b[0;34m>\u001b[0m \u001b[0;36m0\u001b[0m \u001b[0;32mand\u001b[0m \u001b[0marray\u001b[0m\u001b[0;34m.\u001b[0m\u001b[0mndim\u001b[0m \u001b[0;34m==\u001b[0m \u001b[0;36m2\u001b[0m\u001b[0;34m:\u001b[0m\u001b[0;34m\u001b[0m\u001b[0m\n",
      "\u001b[0;31mValueError\u001b[0m: Found array with 0 sample(s) (shape=(0, 1)) while a minimum of 1 is required by MinMaxScaler."
     ]
    }
   ],
   "source": [
    "br.analogy_disambiguation(\"United kingdom\", \"English\", \"Ireland\", \"English Gaelic\", \n",
    "                          weight_1=1, \n",
    "                          weight_2=1, \n",
    "                          weight_3 = 1,\n",
    "                          weight_4 = 1)"
   ]
  },
  {
   "cell_type": "code",
   "execution_count": 90,
   "metadata": {},
   "outputs": [
    {
     "data": {
      "text/plain": [
       "0.70330222103053464"
      ]
     },
     "execution_count": 90,
     "metadata": {},
     "output_type": "execute_result"
    }
   ],
   "source": [
    "tee.model.wv.similarity(\"Wes_Anderson\", \"Luke_Wilson\")"
   ]
  },
  {
   "cell_type": "code",
   "execution_count": null,
   "metadata": {},
   "outputs": [],
   "source": [
    "a"
   ]
  },
  {
   "cell_type": "markdown",
   "metadata": {},
   "source": [
    "# Anomaly"
   ]
  },
  {
   "cell_type": "code",
   "execution_count": 5,
   "metadata": {},
   "outputs": [
    {
     "name": "stderr",
     "output_type": "stream",
     "text": [
      "/home/vinid/.local/lib/python3.5/site-packages/ipykernel_launcher.py:10: DeprecationWarning: Call to deprecated `__getitem__` (Method will be removed in 4.0.0, use self.wv.__getitem__() instead).\n",
      "  # Remove the CWD from sys.path while we load stuff.\n"
     ]
    }
   ],
   "source": [
    "# plot\n",
    "%matplotlib inline\n",
    "import pandas as pd\n",
    "from sklearn.decomposition import PCA\n",
    "from sklearn.manifold import TSNE\n",
    "import matplotlib.pyplot as plt \n",
    "\n",
    "vocab = list(model_e.model.wv.vocab)\n",
    "\n",
    "X = model_e.model[vocab]\n",
    "\n",
    "tsne = PCA(n_components=2)\n",
    "X_tsne = tsne.fit_transform(X)\n",
    "\n"
   ]
  },
  {
   "cell_type": "code",
   "execution_count": 7,
   "metadata": {},
   "outputs": [],
   "source": [
    "dfa = pd.concat([pd.DataFrame(X_tsne),\n",
    "                pd.Series(vocab)],\n",
    "               axis=1)\n",
    "\n",
    "dfa.columns = ['x', 'y', 'word']"
   ]
  },
  {
   "cell_type": "code",
   "execution_count": 45,
   "metadata": {},
   "outputs": [],
   "source": [
    "from SPARQLWrapper import SPARQLWrapper, JSON\n",
    "\n",
    "sparql = SPARQLWrapper(\"http://dbpedia.org/sparql\")\n",
    "sparql.setQuery(\"\"\"\n",
    "    PREFIX rdf:<http://www.w3.org/1999/02/22-rdf-syntax-ns#>\n",
    "    PREFIX dbo:<http://dbpedia.org/ontology/>\n",
    "    PREFIX dbr:<http://dbpedia.org/resource/>\n",
    "\n",
    "    PREFIX vrank:<http://purl.org/voc/vrank#>\n",
    "\n",
    "    SELECT ?s ?v \n",
    "    FROM <http://dbpedia.org> \n",
    "    FROM <http://people.aifb.kit.edu/ath/#DBpedia_PageRank> \n",
    "    WHERE {\n",
    "    {?s rdf:type dbo:OfficeHolder.}\n",
    "\n",
    "    ?s vrank:hasRank/vrank:rankValue ?v.\n",
    "    }\n",
    "    ORDER BY DESC(?v) LIMIT 60\n",
    "\"\"\")\n",
    "sparql.setReturnFormat(JSON)\n",
    "results = sparql.query().convert()\n",
    "politicians = []\n",
    "for result in results[\"results\"][\"bindings\"]:\n",
    "    politicians.append((result[\"s\"][\"value\"]).replace(\"http://dbpedia.org/resource/\", \"\"))"
   ]
  },
  {
   "cell_type": "code",
   "execution_count": 33,
   "metadata": {},
   "outputs": [],
   "source": [
    "politicians = list(set(politicians))"
   ]
  },
  {
   "cell_type": "code",
   "execution_count": 46,
   "metadata": {},
   "outputs": [
    {
     "data": {
      "text/plain": [
       "['Doctor_of_Philosophy',\n",
       " 'Adolf_Hitler',\n",
       " 'Franklin_D._Roosevelt',\n",
       " 'Joseph_Stalin',\n",
       " 'George_Washington',\n",
       " 'Abraham_Lincoln',\n",
       " 'Richard_Nixon',\n",
       " 'Winston_Churchill',\n",
       " 'John_F._Kennedy',\n",
       " 'Thomas_Jefferson',\n",
       " 'Julius_Caesar',\n",
       " 'Dwight_D._Eisenhower',\n",
       " 'Theodore_Roosevelt',\n",
       " 'Lyndon_B._Johnson',\n",
       " 'George_H._W._Bush',\n",
       " 'Jimmy_Carter',\n",
       " 'Vladimir_Lenin',\n",
       " 'Harry_S._Truman',\n",
       " 'Woodrow_Wilson',\n",
       " 'Margaret_Thatcher',\n",
       " 'Christopher_Columbus',\n",
       " 'Benito_Mussolini',\n",
       " 'Mahmoud_Ahmadinejad',\n",
       " 'Juris_Doctor',\n",
       " 'Tony_Blair',\n",
       " 'Mao_Zedong',\n",
       " 'Benjamin_Franklin',\n",
       " 'Hillary_Clinton',\n",
       " 'Oliver_Cromwell',\n",
       " 'Ulysses_S._Grant',\n",
       " 'John_McCain',\n",
       " 'Vladimir_Putin',\n",
       " 'John_Kerry',\n",
       " 'David_Cameron',\n",
       " 'James_Madison',\n",
       " 'Francisco_Franco',\n",
       " 'Andrew_Jackson',\n",
       " 'Saddam_Hussein',\n",
       " 'Charles_de_Gaulle',\n",
       " 'Gerald_Ford',\n",
       " 'Mikhail_Gorbachev',\n",
       " 'Muammar_Gaddafi',\n",
       " 'Tacitus',\n",
       " 'William_Ewart_Gladstone',\n",
       " 'Al_Gore',\n",
       " 'Confluence',\n",
       " 'Nikita_Khrushchev',\n",
       " 'Herbert_Hoover',\n",
       " 'Alexander_Hamilton',\n",
       " 'Otto_von_Bismarck',\n",
       " 'John_Adams',\n",
       " 'Arthur_Wellesley,_1st_Duke_of_Wellington',\n",
       " 'Leon_Trotsky',\n",
       " 'Gordon_Brown',\n",
       " 'Osama_bin_Laden',\n",
       " 'Grover_Cleveland',\n",
       " 'Arnold_Schwarzenegger',\n",
       " 'Mitt_Romney',\n",
       " 'Fidel_Castro',\n",
       " 'William_Howard_Taft']"
      ]
     },
     "execution_count": 46,
     "metadata": {},
     "output_type": "execute_result"
    }
   ],
   "source": [
    "politicians"
   ]
  },
  {
   "cell_type": "code",
   "execution_count": 47,
   "metadata": {},
   "outputs": [
    {
     "data": {
      "image/png": "[encoded data removed]",
      "text/plain": [
       "<matplotlib.figure.Figure at 0x7f7fd66909b0>"
      ]
     },
     "metadata": {},
     "output_type": "display_data"
    }
   ],
   "source": [
    "df = dfa[dfa['word'].isin(politicians)]\n",
    "\n",
    "\n",
    "fig = plt.figure(figsize=(55, 35))\n",
    "ax = fig.add_subplot(1, 1, 1)\n",
    "\n",
    "ax.scatter(df['x'], df['y'], c=\"g\", alpha=0.0,)\n",
    "\n",
    "for i, txt in enumerate(df['word']):\n",
    "    b= ax.annotate(txt, (df['x'].iloc[i], df['y'].iloc[i]), size=35)\n",
    "    \n",
    "plt.savefig('foo.pdf')"
   ]
  },
  {
   "cell_type": "code",
   "execution_count": 10,
   "metadata": {},
   "outputs": [
    {
     "data": {
      "text/plain": [
       "'/home/vinid/PycharmProjects/kge_from_text/kge_from_text/data/starting_data/2016_data/spotlight_dbpedia_bridge'"
      ]
     },
     "execution_count": 10,
     "metadata": {},
     "output_type": "execute_result"
    }
   ],
   "source": [
    "fd.STARTING_DATA_ROOT + \"2016_data/spotlight_dbpedia_bridge\""
   ]
  },
  {
   "cell_type": "code",
   "execution_count": 25,
   "metadata": {},
   "outputs": [],
   "source": [
    "import pandas as pd\n",
    "\n",
    "a = pd.read_csv(fd.STARTING_DATA_ROOT + \"2016_data/spotlight_dbpedia_bridge\", sep=\"\\t\", names=[\"phrase\", \"entity\", \"count\"])"
   ]
  },
  {
   "cell_type": "code",
   "execution_count": 70,
   "metadata": {},
   "outputs": [
    {
     "data": {
      "text/html": [
       "<div>\n",
       "<style>\n",
       "    .dataframe thead tr:only-child th {\n",
       "        text-align: right;\n",
       "    }\n",
       "\n",
       "    .dataframe thead th {\n",
       "        text-align: left;\n",
       "    }\n",
       "\n",
       "    .dataframe tbody tr th {\n",
       "        vertical-align: top;\n",
       "    }\n",
       "</style>\n",
       "<table border=\"1\" class=\"dataframe\">\n",
       "  <thead>\n",
       "    <tr style=\"text-align: right;\">\n",
       "      <th></th>\n",
       "      <th>phrase</th>\n",
       "      <th>entity</th>\n",
       "      <th>count</th>\n",
       "    </tr>\n",
       "  </thead>\n",
       "  <tbody>\n",
       "    <tr>\n",
       "      <th>2300066</th>\n",
       "      <td>cinematography</td>\n",
       "      <td>Film</td>\n",
       "      <td>160</td>\n",
       "    </tr>\n",
       "    <tr>\n",
       "      <th>1168</th>\n",
       "      <td>/film</td>\n",
       "      <td>Film</td>\n",
       "      <td>115</td>\n",
       "    </tr>\n",
       "    <tr>\n",
       "      <th>2491867</th>\n",
       "      <td>post-production</td>\n",
       "      <td>Film</td>\n",
       "      <td>89</td>\n",
       "    </tr>\n",
       "    <tr>\n",
       "      <th>1155</th>\n",
       "      <td>/Film</td>\n",
       "      <td>Film</td>\n",
       "      <td>35</td>\n",
       "    </tr>\n",
       "    <tr>\n",
       "      <th>2310634</th>\n",
       "      <td>concert film</td>\n",
       "      <td>Film</td>\n",
       "      <td>10</td>\n",
       "    </tr>\n",
       "    <tr>\n",
       "      <th>2565941</th>\n",
       "      <td>theatrically released motion pictures</td>\n",
       "      <td>Film</td>\n",
       "      <td>7</td>\n",
       "    </tr>\n",
       "    <tr>\n",
       "      <th>529005</th>\n",
       "      <td>David Chen</td>\n",
       "      <td>Film</td>\n",
       "      <td>3</td>\n",
       "    </tr>\n",
       "    <tr>\n",
       "      <th>2586862</th>\n",
       "      <td>video albums</td>\n",
       "      <td>Film</td>\n",
       "      <td>3</td>\n",
       "    </tr>\n",
       "    <tr>\n",
       "      <th>1374375</th>\n",
       "      <td>Moving image</td>\n",
       "      <td>Film</td>\n",
       "      <td>2</td>\n",
       "    </tr>\n",
       "    <tr>\n",
       "      <th>846682</th>\n",
       "      <td>Hans Christian Andersen</td>\n",
       "      <td>Film</td>\n",
       "      <td>1</td>\n",
       "    </tr>\n",
       "    <tr>\n",
       "      <th>2482933</th>\n",
       "      <td>photographic film</td>\n",
       "      <td>Film</td>\n",
       "      <td>1</td>\n",
       "    </tr>\n",
       "    <tr>\n",
       "      <th>2586857</th>\n",
       "      <td>video album</td>\n",
       "      <td>Film</td>\n",
       "      <td>1</td>\n",
       "    </tr>\n",
       "  </tbody>\n",
       "</table>\n",
       "</div>"
      ],
      "text/plain": [
       "                                        phrase entity  count\n",
       "2300066                         cinematography   Film    160\n",
       "1168                                     /film   Film    115\n",
       "2491867                        post-production   Film     89\n",
       "1155                                     /Film   Film     35\n",
       "2310634                           concert film   Film     10\n",
       "2565941  theatrically released motion pictures   Film      7\n",
       "529005                              David Chen   Film      3\n",
       "2586862                           video albums   Film      3\n",
       "1374375                           Moving image   Film      2\n",
       "846682                 Hans Christian Andersen   Film      1\n",
       "2482933                      photographic film   Film      1\n",
       "2586857                            video album   Film      1"
      ]
     },
     "execution_count": 70,
     "metadata": {},
     "output_type": "execute_result"
    }
   ],
   "source": [
    "a[a[\"entity\"]==(\"Film\")].sort_values(by=[\"count\"], ascending=False)\n",
    "#a[a[\"entity\"] == \"Rum\"]"
   ]
  },
  {
   "cell_type": "code",
   "execution_count": 45,
   "metadata": {},
   "outputs": [
    {
     "name": "stderr",
     "output_type": "stream",
     "text": [
      "/home/vinid/.local/lib/python3.5/site-packages/ipykernel_launcher.py:1: DeprecationWarning: Call to deprecated `similarity` (Method will be removed in 4.0.0, use self.wv.similarity() instead).\n",
      "  \"\"\"Entry point for launching an IPython kernel.\n"
     ]
    },
    {
     "data": {
      "text/plain": [
       "0.21663996489487672"
      ]
     },
     "execution_count": 45,
     "metadata": {},
     "output_type": "execute_result"
    }
   ],
   "source": [
    "model_e.model.similarity(\"Football\", \"Money\")"
   ]
  },
  {
   "cell_type": "code",
   "execution_count": 161,
   "metadata": {},
   "outputs": [],
   "source": [
    "pa = pd.read_csv(fd.GOLD_STANDARDS + \"phrase_analogies\", names=[\"First\", \"Second\", \"Third\", \"Fourth\"], sep=\" \")"
   ]
  },
  {
   "cell_type": "code",
   "execution_count": null,
   "metadata": {},
   "outputs": [],
   "source": []
  },
  {
   "cell_type": "code",
   "execution_count": 163,
   "metadata": {},
   "outputs": [
    {
     "name": "stderr",
     "output_type": "stream",
     "text": [
      "/home/vinid/.local/lib/python3.5/site-packages/ipykernel_launcher.py:4: DeprecationWarning: Call to deprecated `__getitem__` (Method will be removed in 4.0.0, use self.wv.__getitem__() instead).\n",
      "  after removing the cwd from sys.path.\n",
      "/home/vinid/.local/lib/python3.5/site-packages/ipykernel_launcher.py:5: DeprecationWarning: Call to deprecated `__getitem__` (Method will be removed in 4.0.0, use self.wv.__getitem__() instead).\n",
      "  \"\"\"\n",
      "/home/vinid/.local/lib/python3.5/site-packages/ipykernel_launcher.py:6: DeprecationWarning: Call to deprecated `__getitem__` (Method will be removed in 4.0.0, use self.wv.__getitem__() instead).\n",
      "  \n",
      "/home/vinid/.local/lib/python3.5/site-packages/ipykernel_launcher.py:7: DeprecationWarning: Call to deprecated `__getitem__` (Method will be removed in 4.0.0, use self.wv.__getitem__() instead).\n",
      "  import sys\n"
     ]
    }
   ],
   "source": [
    "with open(fd.GOLD_STANDARDS + \"phrase_analogies_tee\", \"w\") as f_write:\n",
    "    for index, row in pa.iterrows():\n",
    "        try:\n",
    "            model_e.model[row[\"First\"]]\n",
    "            model_e.model[row[\"Second\"]]\n",
    "            model_e.model[row[\"Third\"]]\n",
    "            model_e.model[row[\"Fourth\"]]\n",
    "            f_write.write(row[\"First\"] + \" \" + row[\"Second\"] + \" \" + row[\"Third\"] + \" \" + row[\"Fourth\"] + \"\\n\")\n",
    "        except Exception as e: \n",
    "            pass\n",
    "        \n"
   ]
  },
  {
   "cell_type": "code",
   "execution_count": 6,
   "metadata": {},
   "outputs": [
    {
     "data": {
      "text/plain": [
       "1094"
      ]
     },
     "execution_count": 6,
     "metadata": {},
     "output_type": "execute_result"
    }
   ],
   "source": [
    "import pandas as pd\n",
    "pad = pd.read_csv(fd.GOLD_STANDARDS + \"phrase_analogies_tee\", names=[\"First\", \"Second\", \"Third\", \"Fourth\"], sep=\" \")\n",
    "len(pad)"
   ]
  },
  {
   "cell_type": "code",
   "execution_count": null,
   "metadata": {},
   "outputs": [],
   "source": []
  },
  {
   "cell_type": "code",
   "execution_count": 3,
   "metadata": {},
   "outputs": [],
   "source": [
    "path = \"/home/vinid/nuncodes/GoogleNews-vectors-negative300.bin\"\n",
    "from gensim.models import KeyedVectors\n",
    "\n",
    "# Load Google's pre-trained Word2Vec model.\n",
    "model = KeyedVectors.load_word2vec_format(path, binary=True)  "
   ]
  },
  {
   "cell_type": "code",
   "execution_count": 35,
   "metadata": {},
   "outputs": [
    {
     "data": {
      "text/plain": [
       "[('Ala_Littoria', 0.7845418453216553),\n",
       " ('Aero_Trasporti_Italiani', 0.7753539085388184),\n",
       " ('Air_Dolomiti', 0.7705572247505188),\n",
       " ('Alitalia-Linee_Aeree_Italiane', 0.764521598815918),\n",
       " ('Air_One', 0.7567516565322876),\n",
       " ('Blue_Panorama_Airlines', 0.7487359046936035),\n",
       " ('Alitalia', 0.732791006565094),\n",
       " ('Eurofly', 0.7261620163917542),\n",
       " ('Alitalia_CityLiner', 0.7120975255966187),\n",
       " ('Wind_Jet', 0.7110211849212646)]"
      ]
     },
     "execution_count": 35,
     "metadata": {},
     "output_type": "execute_result"
    }
   ],
   "source": [
    "tee.model.most_similar(positive=[\"Icelandair\", \"Italy\"], negative=[\"Iceland\"])"
   ]
  },
  {
   "cell_type": "code",
   "execution_count": 19,
   "metadata": {},
   "outputs": [
    {
     "name": "stdout",
     "output_type": "stream",
     "text": [
      "0\n",
      "100\n",
      "200\n",
      "300\n",
      "400\n",
      "500\n",
      "600\n",
      "700\n",
      "800\n",
      "900\n",
      "1000\n"
     ]
    }
   ],
   "source": [
    "correct = 0\n",
    "total = 0\n",
    "with open(\"/home/vinid/nuncodes/errors_on_phrases\", \"w\") as ferr:\n",
    "    for index, row in pad.iterrows():\n",
    "        if index%100==0:\n",
    "            print(index)\n",
    "        try:\n",
    "            abc = tee.model.most_similar(positive=[row[\"Second\"], row[\"Third\"]], negative=[row[\"First\"]])\n",
    "            if row[\"Fourth\"] == abc[0][0]:\n",
    "                correct = correct + 1\n",
    "            else:\n",
    "                ferr.write(row[\"First\"] + \" \" + row[\"Second\"] + \" \" + row[\"Third\"]\n",
    "                           + \" \" + row[\"Fourth\"] + \" \" + abc[0][0] + \"\\n\")\n",
    "                raw_input()\n",
    "            total = total + 1\n",
    "        except Exception as e:\n",
    "            pass\n"
   ]
  },
  {
   "cell_type": "code",
   "execution_count": 23,
   "metadata": {},
   "outputs": [
    {
     "data": {
      "text/plain": [
       "0.5338208409506399"
      ]
     },
     "execution_count": 23,
     "metadata": {},
     "output_type": "execute_result"
    }
   ],
   "source": [
    "total/(len(pad))"
   ]
  },
  {
   "cell_type": "code",
   "execution_count": 46,
   "metadata": {},
   "outputs": [
    {
     "ename": "NameError",
     "evalue": "name 'br' is not defined",
     "output_type": "error",
     "traceback": [
      "\u001b[0;31m---------------------------------------------------------------------------\u001b[0m",
      "\u001b[0;31mNameError\u001b[0m                                 Traceback (most recent call last)",
      "\u001b[0;32m<ipython-input-46-caf7b398dbd4>\u001b[0m in \u001b[0;36m<module>\u001b[0;34m()\u001b[0m\n\u001b[0;32m----> 1\u001b[0;31m \u001b[0mbr\u001b[0m\u001b[0;34m.\u001b[0m\u001b[0mbridge\u001b[0m\u001b[0;34m[\u001b[0m\u001b[0mbr\u001b[0m\u001b[0;34m.\u001b[0m\u001b[0mbridge\u001b[0m\u001b[0;34m[\u001b[0m\u001b[0;34m\"phrase\"\u001b[0m\u001b[0;34m]\u001b[0m\u001b[0;34m.\u001b[0m\u001b[0mstr\u001b[0m\u001b[0;34m.\u001b[0m\u001b[0mcontains\u001b[0m\u001b[0;34m(\u001b[0m\u001b[0;34m\"wizard\"\u001b[0m\u001b[0;34m)\u001b[0m\u001b[0;34m]\u001b[0m\u001b[0;34m.\u001b[0m\u001b[0msort_values\u001b[0m\u001b[0;34m(\u001b[0m\u001b[0mby\u001b[0m\u001b[0;34m=\u001b[0m\u001b[0;34m[\u001b[0m\u001b[0;34m\"count\"\u001b[0m\u001b[0;34m]\u001b[0m\u001b[0;34m,\u001b[0m \u001b[0mascending\u001b[0m\u001b[0;34m=\u001b[0m\u001b[0;32mFalse\u001b[0m\u001b[0;34m)\u001b[0m\u001b[0;34m\u001b[0m\u001b[0m\n\u001b[0m",
      "\u001b[0;31mNameError\u001b[0m: name 'br' is not defined"
     ]
    }
   ],
   "source": [
    "br.bridge[br.bridge[\"phrase\"].str.contains(\"wizard\")].sort_values(by=[\"count\"], ascending=False)"
   ]
  },
  {
   "cell_type": "markdown",
   "metadata": {},
   "source": [
    "# sim(a,b) > sim(a, c) experiment"
   ]
  },
  {
   "cell_type": "code",
   "execution_count": 21,
   "metadata": {},
   "outputs": [
    {
     "ename": "SyntaxError",
     "evalue": "Missing parentheses in call to 'print' (sparql.py, line 36)",
     "output_type": "error",
     "traceback": [
      "Traceback \u001b[0;36m(most recent call last)\u001b[0m:\n",
      "  File \u001b[1;32m\"/home/vinid/.local/lib/python3.5/site-packages/IPython/core/interactiveshell.py\"\u001b[0m, line \u001b[1;32m2910\u001b[0m, in \u001b[1;35mrun_code\u001b[0m\n    exec(code_obj, self.user_global_ns, self.user_ns)\n",
      "  File \u001b[1;32m\"<ipython-input-21-dca0784ca237>\"\u001b[0m, line \u001b[1;32m1\u001b[0m, in \u001b[1;35m<module>\u001b[0m\n    from sematch.semantic.similarity import EntitySimilarity\n",
      "\u001b[0;36m  File \u001b[0;32m\"/home/vinid/.local/lib/python3.5/site-packages/sematch/semantic/similarity.py\"\u001b[0;36m, line \u001b[0;32m25\u001b[0;36m, in \u001b[0;35m<module>\u001b[0;36m\u001b[0m\n\u001b[0;31m    from sematch.semantic.sparql import EntityFeatures, StatSPARQL\u001b[0m\n",
      "\u001b[0;36m  File \u001b[0;32m\"/home/vinid/.local/lib/python3.5/site-packages/sematch/semantic/sparql.py\"\u001b[0;36m, line \u001b[0;32m36\u001b[0m\n\u001b[0;31m    print query\u001b[0m\n\u001b[0m              ^\u001b[0m\n\u001b[0;31mSyntaxError\u001b[0m\u001b[0;31m:\u001b[0m Missing parentheses in call to 'print'\n"
     ]
    }
   ],
   "source": [
    "from sematch.semantic.similarity import EntitySimilarity\n",
    "sim = EntitySimilarity()"
   ]
  },
  {
   "cell_type": "code",
   "execution_count": 48,
   "metadata": {},
   "outputs": [
    {
     "name": "stderr",
     "output_type": "stream",
     "text": [
      "/home/vinid/.local/lib/python3.5/site-packages/ipykernel_launcher.py:1: DeprecationWarning: Call to deprecated `similarity` (Method will be removed in 4.0.0, use self.wv.similarity() instead).\n",
      "  \"\"\"Entry point for launching an IPython kernel.\n"
     ]
    },
    {
     "data": {
      "text/plain": [
       "(0.64494571556744351, 0.62842291001384898)"
      ]
     },
     "execution_count": 48,
     "metadata": {},
     "output_type": "execute_result"
    }
   ],
   "source": [
    "model_e.model.similarity(\"Mark_Zuckerberg\", \"Facebook\"),tee.model.similarity(\"Mark_Zuckerberg\", \"Facebook\")"
   ]
  },
  {
   "cell_type": "markdown",
   "metadata": {},
   "source": [
    "### Generate Data For Multi Input\n"
   ]
  },
  {
   "cell_type": "code",
   "execution_count": 4,
   "metadata": {},
   "outputs": [],
   "source": [
    "def clean_dbpedia(entity):\n",
    "    return entity.replace(\"<http://dbpedia.org/resource/\", \"\").replace(\">\", \"\")\n",
    "\n",
    "def clean_dbpedia_prop(entity):\n",
    "    return entity.replace(\"<http://dbpedia.org/ontology/\", \"\").replace(\">\", \"\")\n",
    "\n",
    "vocab = tee.model.wv.vocab\n"
   ]
  },
  {
   "cell_type": "code",
   "execution_count": 42,
   "metadata": {},
   "outputs": [
    {
     "name": "stdout",
     "output_type": "stream",
     "text": [
      "not enough values to unpack (expected 4, got 3)\n"
     ]
    }
   ],
   "source": [
    "path = \"/home/vinid/Scaricati/mappingbased_objects_en.ttl\"\n",
    "out_path = \"/home/vinid/Scaricati/only_good_mappings_no_type\"\n",
    "\n",
    "with open(out_path, \"w\") as fb:\n",
    "    with open(path, \"r\") as ff:\n",
    "        for index, line in enumerate(ff):\n",
    "            try:\n",
    "                if index==0:\n",
    "                    continue\n",
    "                head, prop, tail, point = line.split()\n",
    "                if prop in ['<http://www.w3.org/2000/01/rdf-schema#seeAlso>',\n",
    "                         '<http://www.w3.org/2002/07/owl#differentFrom>',\n",
    "                         '<http://xmlns.com/foaf/0.1/depiction>',\n",
    "                         '<http://xmlns.com/foaf/0.1/logo>',\n",
    "                         '<http://xmlns.com/foaf/0.1/thumbnail>']:\n",
    "                    continue\n",
    "                if clean_dbpedia_prop(prop) == \"type\":\n",
    "                    continue \n",
    "                if clean_dbpedia(head) in vocab and clean_dbpedia(tail) in vocab:\n",
    "                    fb.write(clean_dbpedia(head) + \" \" + clean_dbpedia_prop(prop) + \" \" + clean_dbpedia(tail) + \"\\n\")\n",
    "            except Exception as e:\n",
    "                print(e)\n",
    "                pass"
   ]
  },
  {
   "cell_type": "code",
   "execution_count": 5,
   "metadata": {},
   "outputs": [],
   "source": [
    "prop_vocab = []\n",
    "path = \"/home/vinid/Scaricati/only_good_mappings_no_type\"\n",
    "with open(path, \"r\") as ff:\n",
    "    for line in ff:\n",
    "        prop_vocab.append(line.split()[1])\n",
    "prop_vocab = set(prop_vocab)"
   ]
  },
  {
   "cell_type": "code",
   "execution_count": 6,
   "metadata": {},
   "outputs": [],
   "source": [
    "prop2int = {}\n",
    "int2prop = {}\n",
    "\n",
    "vocab_size_prop = len(prop_vocab) # gives the total number of unique words\n",
    "\n",
    "for i,word in enumerate(prop_vocab):\n",
    "    prop2int[word] = i\n",
    "    int2prop[i] = word"
   ]
  },
  {
   "cell_type": "code",
   "execution_count": 40,
   "metadata": {},
   "outputs": [],
   "source": [
    "import numpy as np\n",
    "def prop_to_one_hot(data_point_index, vocab_size):\n",
    "    temp = np.zeros(vocab_size)\n",
    "    temp[prop2int[data_point_index]] = 1\n",
    "    return temp"
   ]
  },
  {
   "cell_type": "code",
   "execution_count": 8,
   "metadata": {},
   "outputs": [],
   "source": [
    "data_in_triples = []\n",
    "path = \"/home/vinid/Scaricati/only_good_mappings_no_type\"\n",
    "with open(path, \"r\") as ff:\n",
    "    for line in ff:\n",
    "        data_in_triples.append(line.split())"
   ]
  },
  {
   "cell_type": "code",
   "execution_count": 9,
   "metadata": {},
   "outputs": [],
   "source": [
    "from random import shuffle\n",
    "shuffle(data_in_triples)"
   ]
  },
  {
   "cell_type": "code",
   "execution_count": 10,
   "metadata": {},
   "outputs": [],
   "source": [
    "training_tiples = data_in_triples[:-int(len(data_in_triples)*0.3)]\n",
    "testing_triples = data_in_triples[-int(len(data_in_triples)*0.3):]"
   ]
  },
  {
   "cell_type": "code",
   "execution_count": 11,
   "metadata": {},
   "outputs": [],
   "source": [
    "data_to_learn = training_tiples[0:100000]\n",
    "data_to_test = training_tiples[100000:]"
   ]
  },
  {
   "cell_type": "code",
   "execution_count": 12,
   "metadata": {},
   "outputs": [],
   "source": [
    "entities = list(map(lambda x : (x[0], x[2]), data_to_learn))"
   ]
  },
  {
   "cell_type": "code",
   "execution_count": 13,
   "metadata": {},
   "outputs": [],
   "source": [
    "flat_list = [item for sublist in entities for item in sublist]"
   ]
  },
  {
   "cell_type": "code",
   "execution_count": 14,
   "metadata": {},
   "outputs": [],
   "source": [
    "flat_set = set(flat_list)"
   ]
  },
  {
   "cell_type": "code",
   "execution_count": 15,
   "metadata": {},
   "outputs": [],
   "source": [
    "other_good_triples = []\n",
    "count_how_many = 0\n",
    "for i in data_to_test:\n",
    "    if i[0] in flat_set and i[2] in flat_set:\n",
    "        if i[1] in {'creativeDirector', 'schoolPatron'}:\n",
    "            continue\n",
    "        other_good_triples.append(i)"
   ]
  },
  {
   "cell_type": "code",
   "execution_count": 16,
   "metadata": {},
   "outputs": [
    {
     "data": {
      "text/plain": [
       "327024"
      ]
     },
     "execution_count": 16,
     "metadata": {},
     "output_type": "execute_result"
    }
   ],
   "source": [
    "len(other_good_triples)"
   ]
  },
  {
   "cell_type": "code",
   "execution_count": 17,
   "metadata": {},
   "outputs": [],
   "source": [
    "real_testing = other_good_triples[:10000]"
   ]
  },
  {
   "cell_type": "code",
   "execution_count": null,
   "metadata": {},
   "outputs": [],
   "source": [
    "with open(fd.STARTING_DATA_ROOT + \"learning_triples\") as lt"
   ]
  },
  {
   "cell_type": "code",
   "execution_count": 184,
   "metadata": {},
   "outputs": [],
   "source": [
    "xx = set(list(map(lambda x: x[1], data_to_learn)))"
   ]
  },
  {
   "cell_type": "code",
   "execution_count": 185,
   "metadata": {},
   "outputs": [],
   "source": [
    "yy = set(list(map(lambda x: x[1], real_testing)))"
   ]
  },
  {
   "cell_type": "code",
   "execution_count": 31,
   "metadata": {},
   "outputs": [],
   "source": [
    "tee = model_e"
   ]
  },
  {
   "cell_type": "code",
   "execution_count": 18,
   "metadata": {},
   "outputs": [
    {
     "name": "stderr",
     "output_type": "stream",
     "text": [
      "Using TensorFlow backend.\n"
     ]
    }
   ],
   "source": [
    "from keras.models import Model\n",
    "from keras import layers\n",
    "from keras import Input\n",
    "\n",
    "entity_vocabulary_size = len(tee.model[\"Barack_Obama\"])\n",
    "prop_vocabulary_size = vocab_size_prop\n",
    "answer_vocabulary_size = len(tee.model[\"Barack_Obama\"])\n",
    "\n",
    "entity_input = Input(shape=(entity_vocabulary_size,))\n",
    "#entity_input = layers.Dense(50)(entity_input)\n",
    "\n",
    "property_input = Input(shape=(prop_vocabulary_size,))\n",
    "embedded_property = layers.Embedding(300, prop_vocabulary_size)(property_input)\n",
    "encoded_delta_force = layers.Dense(250, activation='relu')(property_input)\n",
    "encoded_delta = layers.Dense(200, activation='tanh')(encoded_delta_force)\n",
    "encoded_property = layers.Dense(100)(encoded_delta) \n",
    "\n",
    "concatenated = layers.concatenate([entity_input, encoded_property], axis=-1)\n",
    "\n",
    "belta = layers.Dense(200, activation='tanh')(concatenated)\n",
    "answer = layers.Dense(answer_vocabulary_size)(belta)\n",
    "\n",
    "model = Model([entity_input, property_input], answer)\n",
    "model.compile(loss='mean_absolute_error', optimizer='rmsprop')"
   ]
  },
  {
   "cell_type": "code",
   "execution_count": 19,
   "metadata": {},
   "outputs": [],
   "source": [
    "def to_vectors(triple):\n",
    "    return tee.model[triple[0]], prop_to_one_hot(triple[1], vocab_size_prop), tee.model[triple[2]]\n",
    "    "
   ]
  },
  {
   "cell_type": "code",
   "execution_count": 62,
   "metadata": {},
   "outputs": [],
   "source": [
    "entities_input = []\n",
    "properties_input = []\n",
    "entities_output = []\n",
    "\n",
    "for x in training_tiples[:3000]:\n",
    "    dada = to_vectors(x)\n",
    "    entities_input.append(dada[0])\n",
    "    properties_input.append(dada[1])\n",
    "    entities_output.append(dada[2])\n",
    "    \n",
    "\n",
    "entities_input = np.array(entities_input)\n",
    "properties_input = np.array(properties_input)\n",
    "entities_output = np.array(entities_output)"
   ]
  },
  {
   "cell_type": "code",
   "execution_count": 59,
   "metadata": {},
   "outputs": [
    {
     "data": {
      "text/plain": [
       "1256875"
      ]
     },
     "execution_count": 59,
     "metadata": {},
     "output_type": "execute_result"
    }
   ],
   "source": [
    "len(training_tiples)"
   ]
  },
  {
   "cell_type": "code",
   "execution_count": 17,
   "metadata": {},
   "outputs": [],
   "source": []
  },
  {
   "cell_type": "code",
   "execution_count": 1,
   "metadata": {},
   "outputs": [
    {
     "ename": "NameError",
     "evalue": "name 'model' is not defined",
     "output_type": "error",
     "traceback": [
      "\u001b[0;31m---------------------------------------------------------------------------\u001b[0m",
      "\u001b[0;31mNameError\u001b[0m                                 Traceback (most recent call last)",
      "\u001b[0;32m<ipython-input-1-ed6e0f5683e1>\u001b[0m in \u001b[0;36m<module>\u001b[0;34m()\u001b[0m\n\u001b[0;32m----> 1\u001b[0;31m \u001b[0mmodel\u001b[0m\u001b[0;34m.\u001b[0m\u001b[0mfit\u001b[0m\u001b[0;34m(\u001b[0m\u001b[0;34m[\u001b[0m\u001b[0mentities_input\u001b[0m\u001b[0;34m,\u001b[0m \u001b[0mproperties_input\u001b[0m\u001b[0;34m]\u001b[0m\u001b[0;34m,\u001b[0m \u001b[0mentities_output\u001b[0m\u001b[0;34m,\u001b[0m \u001b[0mepochs\u001b[0m\u001b[0;34m=\u001b[0m\u001b[0;36m100\u001b[0m\u001b[0;34m,\u001b[0m \u001b[0mbatch_size\u001b[0m\u001b[0;34m=\u001b[0m\u001b[0;36m1000\u001b[0m\u001b[0;34m,\u001b[0m \u001b[0mvalidation_split\u001b[0m\u001b[0;34m=\u001b[0m\u001b[0;36m0.33\u001b[0m\u001b[0;34m)\u001b[0m\u001b[0;34m\u001b[0m\u001b[0m\n\u001b[0m",
      "\u001b[0;31mNameError\u001b[0m: name 'model' is not defined"
     ]
    }
   ],
   "source": [
    "model.fit([entities_input, properties_input], entities_output, epochs=100, batch_size=1000)"
   ]
  },
  {
   "cell_type": "code",
   "execution_count": 25,
   "metadata": {},
   "outputs": [],
   "source": [
    "from scipy.spatial.distance import cosine\n",
    "def top_predicates_connecting(ent_1, ent_2, topn=10):\n",
    "    input_one = np.array([tee.model[ent_1]])\n",
    "    preds = []\n",
    "    for pred in prop_vocab:\n",
    "        input_two = np.array([prop_to_one_hot(pred, vocab_size_prop)])\n",
    "        arr = model.predict([input_one, input_two])\n",
    "        sim = 1 - cosine(arr, tee.model[ent_2])\n",
    "        preds.append((pred, sim))\n",
    "    return sorted(preds, key=lambda x: x[1], reverse=True)[0:topn]\n",
    "        "
   ]
  },
  {
   "cell_type": "code",
   "execution_count": 58,
   "metadata": {},
   "outputs": [
    {
     "data": {
      "text/plain": [
       "[('foundationPlace', 0.63750314712524414),\n",
       " ('residence', 0.62782984972000122),\n",
       " ('jurisdiction', 0.61015510559082031),\n",
       " ('hometown', 0.60591411590576172),\n",
       " ('fundedBy', 0.60076594352722168),\n",
       " ('birthPlace', 0.59114557504653931),\n",
       " ('state', 0.589976966381073),\n",
       " ('deathPlace', 0.58987975120544434),\n",
       " ('locationCity', 0.58895134925842285),\n",
       " ('secondCommander', 0.58666801452636719)]"
      ]
     },
     "execution_count": 58,
     "metadata": {},
     "output_type": "execute_result"
    }
   ],
   "source": [
    "top_predicates_connecting(\"Tom_O'Horgan\", \"Chicago\")"
   ]
  },
  {
   "cell_type": "code",
   "execution_count": 57,
   "metadata": {},
   "outputs": [
    {
     "data": {
      "text/plain": [
       "[\"Tom_O'Horgan\", 'birthPlace', 'Chicago']"
      ]
     },
     "execution_count": 57,
     "metadata": {},
     "output_type": "execute_result"
    }
   ],
   "source": [
    "training_tiples[220206]"
   ]
  },
  {
   "cell_type": "code",
   "execution_count": 53,
   "metadata": {},
   "outputs": [
    {
     "name": "stderr",
     "output_type": "stream",
     "text": [
      "/home/vinid/.local/lib/python3.5/site-packages/ipykernel_launcher.py:1: DeprecationWarning: Call to deprecated `__getitem__` (Method will be removed in 4.0.0, use self.wv.__getitem__() instead).\n",
      "  \"\"\"Entry point for launching an IPython kernel.\n",
      "/home/vinid/.local/lib/python3.5/site-packages/ipykernel_launcher.py:4: DeprecationWarning: Call to deprecated `most_similar` (Method will be removed in 4.0.0, use self.wv.most_similar() instead).\n",
      "  after removing the cwd from sys.path.\n"
     ]
    },
    {
     "data": {
      "text/plain": [
       "[('Paris', 0.884772777557373),\n",
       " ('Alexandre_Lenoir', 0.8237810730934143),\n",
       " ('Seine-et-Oise', 0.8138894438743591),\n",
       " ('Pierre-Jules_Cavelier', 0.8131248950958252),\n",
       " ('Villiers-sur-Marne', 0.8112963438034058),\n",
       " ('Assistance_Publique_–_Hopitaux_de_Paris', 0.8101568818092346),\n",
       " ('Abd-el-Tif_prize', 0.8062295913696289),\n",
       " ('France', 0.8060406446456909),\n",
       " ('Jules-Clement_Chaplain', 0.8050708174705505),\n",
       " ('6th_arrondissement_of_Paris', 0.8048877120018005)]"
      ]
     },
     "execution_count": 53,
     "metadata": {},
     "output_type": "execute_result"
    }
   ],
   "source": [
    "input_one = np.array([tee.model[\"Paris\"]])\n",
    "input_two = np.array([prop_to_one_hot(\"capital\", vocab_size_prop)])\n",
    "\n",
    "tee.model.most_similar(model.predict([input_one, input_two]))"
   ]
  },
  {
   "cell_type": "code",
   "execution_count": 97,
   "metadata": {},
   "outputs": [
    {
     "data": {
      "text/plain": [
       "[('United_States', 0.9134023189544678),\n",
       " ('France', 0.7185734510421753),\n",
       " ('Canada', 0.691838800907135),\n",
       " ('Mexico', 0.6719715595245361),\n",
       " ('EUCLID_(university)', 0.6687586903572083),\n",
       " ('Tangier_International_Zone', 0.6590375304222107),\n",
       " ('Spain', 0.6578062176704407),\n",
       " ('Pacific_Alliance', 0.6478729248046875),\n",
       " ('Germany', 0.639794647693634),\n",
       " ('Netherlands', 0.6371276378631592)]"
      ]
     },
     "execution_count": 97,
     "metadata": {},
     "output_type": "execute_result"
    }
   ],
   "source": []
  },
  {
   "cell_type": "code",
   "execution_count": 45,
   "metadata": {},
   "outputs": [],
   "source": [
    "prop_encoder = Model(property_input, encoded_property)\n"
   ]
  },
  {
   "cell_type": "code",
   "execution_count": 41,
   "metadata": {},
   "outputs": [
    {
     "data": {
      "text/plain": [
       "(611,)"
      ]
     },
     "execution_count": 41,
     "metadata": {},
     "output_type": "execute_result"
    }
   ],
   "source": [
    "prop_to_one_hot(\"nationality\", vocab_size_prop).shape"
   ]
  },
  {
   "cell_type": "code",
   "execution_count": 43,
   "metadata": {},
   "outputs": [],
   "source": [
    "from scipy.spatial.distance import cosine\n",
    "\n",
    "def sim_inner(x):\n",
    "    return prop_encoder.predict(np.array([prop_to_one_hot(x, vocab_size_prop)]))\n",
    "\n",
    "def similarity_properties(x, y):\n",
    "    return 1 - cosine(sim_inner(x), sim_inner(y))"
   ]
  },
  {
   "cell_type": "code",
   "execution_count": 46,
   "metadata": {},
   "outputs": [
    {
     "data": {
      "text/plain": [
       "0.91154003143310547"
      ]
     },
     "execution_count": 46,
     "metadata": {},
     "output_type": "execute_result"
    }
   ],
   "source": [
    "similarity_properties(\"nationality\", \"country\")"
   ]
  },
  {
   "cell_type": "code",
   "execution_count": 23,
   "metadata": {},
   "outputs": [],
   "source": [
    "import itertools\n",
    "\n",
    "props = list(itertools.combinations(prop_vocab, 2))\n"
   ]
  },
  {
   "cell_type": "code",
   "execution_count": 189,
   "metadata": {},
   "outputs": [],
   "source": [
    "pairs = []\n",
    "for a, b in props:\n",
    "    pairs.append((a,b, similarity_properties(a,b)))\n",
    "    \n",
    "    \n",
    "    "
   ]
  },
  {
   "cell_type": "code",
   "execution_count": 188,
   "metadata": {},
   "outputs": [
    {
     "data": {
      "text/plain": [
       "[('nationality', 'country', 0.98477303981781006),\n",
       " ('locationCountry', 'country', 0.96970438957214355),\n",
       " ('nationality', 'countryOrigin', 0.96781724691390991),\n",
       " ('countryOrigin', 'country', 0.96727895736694336),\n",
       " ('countySeat', 'largestCity', 0.96573144197463989),\n",
       " ('sourceCountry', 'country', 0.96305197477340698),\n",
       " ('locationCountry', 'usingCountry', 0.96140938997268677),\n",
       " ('spokenIn', 'sourceCountry', 0.95897221565246582),\n",
       " ('musicFusionGenre', 'genre', 0.95681089162826538),\n",
       " ('stylisticOrigin', 'genre', 0.9566948413848877),\n",
       " ('nationality', 'sourceCountry', 0.95620352029800415),\n",
       " ('associatedBand', 'associatedMusicalArtist', 0.95441049337387085),\n",
       " ('mayor', 'party', 0.95420271158218384),\n",
       " ('locationCountry', 'countryOrigin', 0.95390492677688599),\n",
       " ('industry', 'product', 0.9526405930519104),\n",
       " ('stylisticOrigin', 'musicFusionGenre', 0.95224487781524658),\n",
       " ('daylightSavingTimeZone', 'timeZone', 0.95111191272735596),\n",
       " ('countySeat', 'city', 0.94984263181686401),\n",
       " ('sire', 'raceHorse', 0.94962173700332642),\n",
       " ('nationality', 'locationCountry', 0.94722980260848999),\n",
       " ('europeanParliamentGroup', 'typeOfElectrification', 0.94689720869064331),\n",
       " ('locationCountry', 'stateOfOrigin', 0.946064293384552),\n",
       " ('leaderName', 'leaderParty', 0.9460107684135437),\n",
       " ('largestCity', 'city', 0.94590717554092407),\n",
       " ('mouthPlace', 'ground', 0.94502222537994385),\n",
       " ('foundationPlace', 'birthPlace', 0.94437509775161743),\n",
       " ('usingCountry', 'country', 0.94363409280776978),\n",
       " ('management', 'biome', 0.94320160150527954),\n",
       " ('spokenIn', 'country', 0.94183284044265747),\n",
       " ('locationCountry', 'sourceCountry', 0.94173341989517212),\n",
       " ('deathPlace', 'birthPlace', 0.94133877754211426),\n",
       " ('countryOrigin', 'sourceCountry', 0.94116860628128052),\n",
       " ('stateOfOrigin', 'country', 0.94086223840713501),\n",
       " ('spokenIn', 'stateOfOrigin', 0.94012337923049927),\n",
       " ('countryOrigin', 'spokenIn', 0.93718403577804565),\n",
       " ('targetAirport', 'hubAirport', 0.93623989820480347),\n",
       " ('countryOrigin', 'stateOfOrigin', 0.93617826700210571),\n",
       " ('mayor', 'otherParty', 0.93505603075027466),\n",
       " ('engineType', 'powerType', 0.93500339984893799),\n",
       " ('billed', 'birthPlace', 0.93500304222106934),\n",
       " ('mayor', 'leaderParty', 0.93452340364456177),\n",
       " ('countryOrigin', 'usingCountry', 0.93447870016098022),\n",
       " ('computingPlatform', 'operatingSystem', 0.93394505977630615),\n",
       " ('usingCountry', 'spokenIn', 0.93325340747833252),\n",
       " ('leaderName', 'party', 0.93261384963989258),\n",
       " ('homeport', 'routeEndLocation', 0.93160474300384521),\n",
       " ('militaryRank', 'structuralSystem', 0.93046581745147705),\n",
       " ('location', 'birthPlace', 0.92965036630630493),\n",
       " ('usingCountry', 'stateOfOrigin', 0.92962700128555298),\n",
       " ('mayor', 'leaderName', 0.92961752414703369),\n",
       " ('aircraftFighter', 'aircraftPatrol', 0.92959433794021606),\n",
       " ('musicComposer', 'composer', 0.92935490608215332),\n",
       " ('internationalAffiliation', 'ideology', 0.92895495891571045),\n",
       " ('stylisticOrigin', 'derivative', 0.92889988422393799),\n",
       " ('mayor', 'splitFromParty', 0.92877203226089478),\n",
       " ('nationality', 'spokenIn', 0.92871469259262085),\n",
       " ('derivative', 'genre', 0.92867344617843628),\n",
       " ('countryOrigin', 'populationPlace', 0.9269949197769165),\n",
       " ('mayor', 'politicalPartyOfLeader', 0.92641496658325195),\n",
       " ('splitFromParty', 'politicalPartyOfLeader', 0.9261203408241272),\n",
       " ('closingFilm', 'lowestMountain', 0.92608052492141724),\n",
       " ('structuralSystem', 'powerType', 0.92577403783798218),\n",
       " ('locationCountry', 'spokenIn', 0.92507487535476685),\n",
       " ('countySeat', 'nearestCity', 0.92365282773971558),\n",
       " ('europeanParliamentGroup', 'nonFictionSubject', 0.92281037569046021),\n",
       " ('deathPlace', 'headquarter', 0.92263525724411011),\n",
       " ('splitFromParty', 'party', 0.92229360342025757),\n",
       " ('usingCountry', 'sourceCountry', 0.92153733968734741),\n",
       " ('winsAtMajors', 'spokesperson', 0.92091065645217896),\n",
       " ('residence', 'principalArea', 0.92078715562820435),\n",
       " ('deathPlace', 'routeEndLocation', 0.91927403211593628),\n",
       " ('aircraftElectronic', 'aircraftInterceptor', 0.91919410228729248),\n",
       " ('nationality', 'stateOfOrigin', 0.91864478588104248),\n",
       " ('party', 'leaderParty', 0.91775768995285034),\n",
       " ('nationality', 'usingCountry', 0.91751569509506226),\n",
       " ('product', 'constructionMaterial', 0.91726821660995483),\n",
       " ('schoolBoard', 'pictureFormat', 0.91713595390319824),\n",
       " ('isPartOf', 'garrison', 0.91627812385559082),\n",
       " ('foundationPlace', 'residence', 0.91587764024734497),\n",
       " ('residence', 'headquarter', 0.91572368144989014),\n",
       " ('closingFilm', 'lastWin', 0.91566234827041626),\n",
       " ('class', 'biome', 0.91494959592819214),\n",
       " ('militaryRank', 'governmentType', 0.91452294588088989),\n",
       " ('musicSubgenre', 'genre', 0.91441208124160767),\n",
       " ('musicFusionGenre', 'derivative', 0.9139782190322876),\n",
       " ('countryOrigin', 'canonizedPlace', 0.91288095712661743),\n",
       " ('profession', 'militaryRank', 0.91243547201156616),\n",
       " ('closingFilm', 'governmentPlace', 0.912353515625),\n",
       " ('nonFictionSubject', 'management', 0.91223323345184326),\n",
       " ('product', 'pictureFormat', 0.91146868467330933),\n",
       " ('capital', 'homeport', 0.9113343358039856),\n",
       " ('product', 'instrument', 0.91112136840820312),\n",
       " ('gameArtist', 'guest', 0.91095066070556641),\n",
       " ('principal', 'composer', 0.91079354286193848),\n",
       " ('birthPlace', 'routeEndLocation', 0.9104582667350769),\n",
       " ('currentMember', 'incumbent', 0.90996366739273071),\n",
       " ('sourceCountry', 'populationPlace', 0.90989774465560913),\n",
       " ('otherParty', 'party', 0.90989023447036743),\n",
       " ('profession', 'era', 0.90898871421813965),\n",
       " ('deathPlace', 'location', 0.90887200832366943),\n",
       " ('club', 'sheading', 0.90857690572738647),\n",
       " ('deathPlace', 'foundationPlace', 0.90846782922744751),\n",
       " ('mouthCountry', 'country', 0.90803563594818115),\n",
       " ('clubsRecordGoalscorer', 'closingFilm', 0.90787267684936523),\n",
       " ('profession', 'mainInterest', 0.90777647495269775),\n",
       " ('instrument', 'pictureFormat', 0.90760618448257446),\n",
       " ('anthem', 'originalLanguage', 0.90760242938995361),\n",
       " ('nearestCity', 'city', 0.90721422433853149),\n",
       " ('deathPlace', 'capital', 0.90720248222351074),\n",
       " ('foundationPlace', 'location', 0.90707004070281982),\n",
       " ('location', 'hometown', 0.90698426961898804),\n",
       " ('format', 'product', 0.90663105249404907),\n",
       " ('organSystem', 'highestState', 0.9066157341003418),\n",
       " ('majorIsland', 'birthPlace', 0.9066087007522583),\n",
       " ('constructionMaterial', 'instrument', 0.90601146221160889),\n",
       " ('sire', 'race', 0.90589767694473267),\n",
       " ('europeanParliamentGroup', 'movement', 0.90584856271743774),\n",
       " ('deathPlace', 'arrondissement', 0.90539079904556274),\n",
       " ('management', 'blockAlloy', 0.90519386529922485),\n",
       " ('arrondissement', 'routeEndLocation', 0.90472704172134399),\n",
       " ('institution', 'university', 0.90472394227981567),\n",
       " ('foundedBy', 'writer', 0.90459656715393066),\n",
       " ('chancellor', 'child', 0.90432077646255493),\n",
       " ('editing', 'person', 0.90396040678024292),\n",
       " ('film', 'cpu', 0.90392112731933594),\n",
       " ('field', 'mainInterest', 0.90365582704544067),\n",
       " ('successor', 'predecessor', 0.90355914831161499),\n",
       " ('recordLabel', 'distributingCompany', 0.9034888744354248),\n",
       " ('mouthCountry', 'citizenship', 0.9025236964225769),\n",
       " ('foundationPlace', 'headquarter', 0.90246284008026123),\n",
       " ('deathPlace', 'destination', 0.90225797891616821),\n",
       " ('creativeDirector', 'compiler', 0.90197944641113281),\n",
       " ('hometown', 'birthPlace', 0.90173059701919556),\n",
       " ('editor', 'guest', 0.90084928274154663),\n",
       " ('musicComposer', 'principal', 0.90070384740829468),\n",
       " ('billed', 'ground', 0.90067559480667114),\n",
       " ('highestMountain', 'headquarter', 0.90061277151107788),\n",
       " ('championInDoubleFemale', 'highestState', 0.90055561065673828),\n",
       " ('routeJunction', 'largestCity', 0.9004780650138855),\n",
       " ('lastWin', 'governmentPlace', 0.90030962228775024),\n",
       " ('closingFilm', 'incumbent', 0.90029960870742798),\n",
       " ('internationalAffiliation', 'nrhpType', 0.90023458003997803),\n",
       " ('firstFlight', 'damage', 0.90017366409301758),\n",
       " ('foundationPlace', 'hometown', 0.90016579627990723),\n",
       " ('spokenIn', 'populationPlace', 0.90016436576843262),\n",
       " ('architecturalStyle', 'biome', 0.89972734451293945),\n",
       " ('birthPlace', 'headquarter', 0.89956974983215332),\n",
       " ('birthPlace', 'city', 0.89935791492462158),\n",
       " ('aircraftHelicopterUtility', 'compiler', 0.89917141199111938),\n",
       " ('aircraftTrainer', 'aircraftInterceptor', 0.89900201559066772),\n",
       " ('militaryRank', 'architecturalStyle', 0.89873737096786499),\n",
       " ('field', 'era', 0.89870887994766235),\n",
       " ('residence', 'routeEndLocation', 0.89849460124969482),\n",
       " ('capital', 'hometown', 0.89847373962402344),\n",
       " ('sourceCountry', 'stateOfOrigin', 0.89845633506774902),\n",
       " ('almaMater', 'education', 0.89844906330108643),\n",
       " ('sourceCountry', 'mouthCountry', 0.89829784631729126),\n",
       " ('usingCountry', 'mouthCountry', 0.89811700582504272),\n",
       " ('location', 'headquarter', 0.89809691905975342),\n",
       " ('typeOfElectrification', 'service', 0.89809441566467285),\n",
       " ('narrator', 'writer', 0.89802628755569458),\n",
       " ('birthPlace', 'restingPlace', 0.89767473936080933),\n",
       " ('residence', 'birthPlace', 0.89765042066574097),\n",
       " ('locationCountry', 'mouthCountry', 0.89757704734802246),\n",
       " ('routeJunction', 'countySeat', 0.89744842052459717),\n",
       " ('vein', 'namedAfter', 0.89733660221099854),\n",
       " ('routeJunction', 'school', 0.89732909202575684),\n",
       " ('aircraftTrainer', 'aircraftElectronic', 0.89722788333892822),\n",
       " ('deathPlace', 'hometown', 0.89713823795318604),\n",
       " ('deathPlace', 'restingPlace', 0.89711868762969971),\n",
       " ('birthPlace', 'destination', 0.89702820777893066),\n",
       " ('foundationPlace', 'principalArea', 0.89701652526855469),\n",
       " ('architecturalStyle', 'powerType', 0.89685344696044922),\n",
       " ('locationCity', 'city', 0.89684885740280151),\n",
       " ('nationality', 'populationPlace', 0.89680176973342896),\n",
       " ('starring', 'director', 0.89679169654846191),\n",
       " ('industry', 'typeOfElectrification', 0.89674192667007446),\n",
       " ('veneratedIn', 'religion', 0.89656686782836914),\n",
       " ('secondPopularVote', 'recentWinner', 0.89623743295669556),\n",
       " ('sourceConfluence', 'winsAtJapan', 0.89599341154098511),\n",
       " ('derivative', 'musicSubgenre', 0.89587372541427612),\n",
       " ('nonFictionSubject', 'blockAlloy', 0.89587169885635376),\n",
       " ('schoolBoard', 'notableIdea', 0.89552873373031616),\n",
       " ('winsAtChampionships', 'nextEvent', 0.89552587270736694),\n",
       " ('structuralSystem', 'engineType', 0.89552563428878784),\n",
       " ('aircraftHelicopterCargo', 'teachingStaff', 0.89541149139404297),\n",
       " ('mouthPlace', 'countySeat', 0.89540725946426392),\n",
       " ('rocketFunction', 'service', 0.89533752202987671),\n",
       " ('mainInterest', 'era', 0.89527046680450439),\n",
       " ('constructionMaterial', 'engineType', 0.89473724365234375),\n",
       " ('canonizedPlace', 'stateOfOrigin', 0.89471101760864258),\n",
       " ('architecturalStyle', 'governmentType', 0.89439451694488525),\n",
       " ('homeport', 'ground', 0.89427971839904785),\n",
       " ('deathPlace', 'assembly', 0.89416670799255371),\n",
       " ('winsAtNWIDE', 'chaplain', 0.89406782388687134),\n",
       " ('generalManager', 'governingBody', 0.89395064115524292),\n",
       " ('oilSystem', 'religiousHead', 0.8936612606048584),\n",
       " ('neighboringMunicipality', 'school', 0.89357239007949829),\n",
       " ('philosophicalSchool', 'literaryGenre', 0.89354509115219116),\n",
       " ('routeEndLocation', 'restingPlace', 0.89336484670639038),\n",
       " ('closingFilm', 'winsAtJapan', 0.89320099353790283),\n",
       " ('film', 'generalManager', 0.89316636323928833),\n",
       " ('birthPlace', 'homeport', 0.89314669370651245),\n",
       " ('canonizedPlace', 'citizenship', 0.89305460453033447),\n",
       " ('firstDriverTeam', 'secondTeam', 0.89302581548690796),\n",
       " ('citizenship', 'country', 0.89300060272216797),\n",
       " ('layout', 'bodyStyle', 0.89281940460205078),\n",
       " ('winsAtMajors', 'flagBearer', 0.89272123575210571),\n",
       " ('child', 'associate', 0.89264923334121704),\n",
       " ('film', 'governingBody', 0.89247596263885498),\n",
       " ('splitFromParty', 'otherParty', 0.89236152172088623),\n",
       " ('deathPlace', 'residence', 0.89235925674438477),\n",
       " ('coverArtist', 'editor', 0.89219403266906738),\n",
       " ('firstRace', 'era', 0.89210599660873413),\n",
       " ('capital', 'birthPlace', 0.89207470417022705),\n",
       " ('philosophicalSchool', 'field', 0.89198875427246094),\n",
       " ('gameArtist', 'designer', 0.8918796181678772),\n",
       " ('mythology', 'similar', 0.89186954498291016),\n",
       " ('creativeDirector', 'aircraftHelicopterUtility', 0.89186912775039673),\n",
       " ('channel', 'network', 0.89181262254714966),\n",
       " ('architecturalStyle', 'structuralSystem', 0.89165222644805908),\n",
       " ('majorIsland', 'highestMountain', 0.89159393310546875),\n",
       " ('foundationPlace', 'routeEndLocation', 0.89150303602218628),\n",
       " ('executiveProducer', 'person', 0.89143890142440796),\n",
       " ('occupation', 'academicDiscipline', 0.89138573408126831),\n",
       " ('location', 'destination', 0.89137256145477295),\n",
       " ('internationalAffiliation', 'engineer', 0.8913503885269165),\n",
       " ('prospectTeam', 'beltwayCity', 0.89111131429672241),\n",
       " ('film', 'administrativeCollectivity', 0.89089697599411011),\n",
       " ('aircraftHelicopterCargo', 'club', 0.89086705446243286),\n",
       " ('notableIdea', 'cpu', 0.89059650897979736),\n",
       " ('agency', 'mouthRegion', 0.8905377984046936),\n",
       " ('locationCountry', 'populationPlace', 0.88994413614273071),\n",
       " ('constructionMaterial', 'powerType', 0.88944518566131592),\n",
       " ('cpu', 'rocketFunction', 0.88940525054931641),\n",
       " ('secondPopularVote', 'chairman', 0.88929259777069092),\n",
       " ('closingFilm', 'museum', 0.88924086093902588),\n",
       " ('owningCompany', 'promotion', 0.88902038335800171),\n",
       " ('aircraftHelicopterUtility', 'originalStartPoint', 0.88895946741104126),\n",
       " ('nationality', 'canonizedPlace', 0.88886767625808716),\n",
       " ('spokenIn', 'mouthCountry', 0.88834041357040405),\n",
       " ('cultivatedVariety', 'governmentPlace', 0.88828182220458984),\n",
       " ('oilSystem', 'chairman', 0.88818895816802979),\n",
       " ('internationalAffiliation', 'movement', 0.8881412148475647),\n",
       " ('profession', 'cpu', 0.88812810182571411),\n",
       " ('billed', 'routeEndLocation', 0.88810122013092041),\n",
       " ('otherParty', 'politicalPartyOfLeader', 0.88800692558288574),\n",
       " ('film', 'binomial', 0.88790595531463623),\n",
       " ('whaDraftTeam', 'youthWing', 0.88771694898605347),\n",
       " ('birthPlace', 'principalArea', 0.88739663362503052),\n",
       " ('cpu', 'governmentType', 0.887340247631073),\n",
       " ('industry', 'europeanParliamentGroup', 0.88724178075790405),\n",
       " ('oilSystem', 'organSystem', 0.88718509674072266),\n",
       " ('nationality', 'mouthCountry', 0.88716369867324829),\n",
       " ('clubsRecordGoalscorer', 'endingTheme', 0.88704675436019897),\n",
       " ('architecturalStyle', 'management', 0.88697654008865356),\n",
       " ('internationalAffiliation', 'secretaryGeneral', 0.88692945241928101),\n",
       " ('mergedIntoParty', 'fourthCommander', 0.88691884279251099),\n",
       " ('cpu', 'service', 0.88683164119720459),\n",
       " ('largestSettlement', 'majorIsland', 0.88669306039810181),\n",
       " ('rightChild', 'highestState', 0.88659965991973877),\n",
       " ('largestCity', 'nearestCity', 0.88648313283920288),\n",
       " ('format', 'constructionMaterial', 0.88636744022369385),\n",
       " ('license', 'instrument', 0.88611912727355957),\n",
       " ('president', 'primeMinister', 0.88563984632492065),\n",
       " ('billed', 'city', 0.88552910089492798),\n",
       " ('industry', 'service', 0.88552671670913696),\n",
       " ('archipelago', 'sourceRegion', 0.8854212760925293),\n",
       " ('associatedRocket', 'recentWinner', 0.88541066646575928),\n",
       " ('location', 'routeEndLocation', 0.88535827398300171),\n",
       " ('cpu', 'nonFictionSubject', 0.88508373498916626),\n",
       " ('teachingStaff', 'religiousHead', 0.88483834266662598),\n",
       " ('deathPlace', 'mouthRegion', 0.88478934764862061),\n",
       " ('homeport', 'city', 0.88466811180114746),\n",
       " ('birthPlace', 'locationCity', 0.88458657264709473),\n",
       " ('gameArtist', 'voice', 0.88457351922988892),\n",
       " ('academicDiscipline', 'closingFilm', 0.88433265686035156),\n",
       " ('editing', 'executiveProducer', 0.88416308164596558),\n",
       " ('deathPlace', 'principalArea', 0.88405078649520874),\n",
       " ('cpu', 'teachingStaff', 0.88402831554412842),\n",
       " ('profession', 'nrhpType', 0.88392794132232666),\n",
       " ('populationPlace', 'country', 0.88389343023300171),\n",
       " ('organisation', 'museum', 0.88386046886444092),\n",
       " ('automobilePlatform', 'availableSmartCard', 0.88383001089096069),\n",
       " ('lowestMountain', 'lastWin', 0.88375371694564819),\n",
       " ('rightChild', 'organSystem', 0.88367784023284912),\n",
       " ('writer', 'director', 0.88363254070281982),\n",
       " ('fuelSystem', 'lastFlight', 0.88346463441848755),\n",
       " ('equipment', 'recentWinner', 0.88334476947784424),\n",
       " ('aircraftHelicopterUtility', 'museum', 0.88330447673797607),\n",
       " ('locationCity', 'homeport', 0.88298588991165161),\n",
       " ('headquarter', 'principalArea', 0.88291949033737183),\n",
       " ('comparable', 'winsAtChampionships', 0.88289487361907959),\n",
       " ('administrator', 'chairman', 0.88289427757263184),\n",
       " ('firstWinner', 'rector', 0.88282877206802368),\n",
       " ('currentMember', 'closingFilm', 0.88274610042572021),\n",
       " ('secretaryGeneral', 'movement', 0.8827100396156311),\n",
       " ('currentProduction', 'leftChild', 0.88260018825531006),\n",
       " ('profession', 'nonFictionSubject', 0.88258761167526245),\n",
       " ('addressInRoad', 'canonizedPlace', 0.88249081373214722),\n",
       " ('binomial', 'winsAtJapan', 0.88233214616775513),\n",
       " ('birthPlace', 'ground', 0.88221615552902222),\n",
       " ('musicFusionGenre', 'musicSubgenre', 0.88217270374298096),\n",
       " ('nonFictionSubject', 'rocketFunction', 0.88214868307113647),\n",
       " ('schoolBoard', 'governmentPlace', 0.88204240798950195),\n",
       " ('majorIsland', 'agency', 0.88198375701904297),\n",
       " ('incumbent', 'lastWin', 0.88189923763275146),\n",
       " ('deathPlace', 'highestMountain', 0.88165318965911865),\n",
       " ('arrondissement', 'agency', 0.88160961866378784),\n",
       " ('field', 'militaryRank', 0.8815150260925293),\n",
       " ('homeport', 'restingPlace', 0.88127440214157104),\n",
       " ('origin', 'populationPlace', 0.88117885589599609),\n",
       " ('countryOrigin', 'citizenship', 0.88108688592910767),\n",
       " ('ground', 'city', 0.88106364011764526),\n",
       " ('product', 'keyPerson', 0.881061851978302),\n",
       " ('countySeat', 'homeport', 0.88079476356506348),\n",
       " ('otherParty', 'leaderParty', 0.88074266910552979),\n",
       " ('localAuthority', 'automobilePlatform', 0.88072729110717773),\n",
       " ('governmentCountry', 'museum', 0.88063657283782959),\n",
       " ('hometown', 'principalArea', 0.88059759140014648),\n",
       " ('europeanParliamentGroup', 'nrhpType', 0.88053691387176514),\n",
       " ('prospectLeague', 'incumbent', 0.88051050901412964),\n",
       " ('splitFromParty', 'leaderName', 0.88041681051254272),\n",
       " ('discipline', 'grades', 0.88024568557739258),\n",
       " ('generalManager', 'vicePrimeMinister', 0.88022345304489136),\n",
       " ('rebuilder', 'winsAtJapan', 0.88013350963592529),\n",
       " ('aircraftTrainer', 'aircraftHelicopter', 0.88010895252227783),\n",
       " ('profession', 'field', 0.88009041547775269),\n",
       " ('regionServed', 'mouthCountry', 0.88008803129196167),\n",
       " ('europeanParliamentGroup', 'cpu', 0.87997961044311523),\n",
       " ('oilSystem', 'damage', 0.879752516746521),\n",
       " ('vicePrincipal', 'assistantPrincipal', 0.87963354587554932),\n",
       " ('canonizedPlace', 'country', 0.87959849834442139),\n",
       " ('sheading', 'lowestMountain', 0.87953948974609375),\n",
       " ('firstRace', 'nrhpType', 0.87953907251358032),\n",
       " ('routeJunction', 'neighboringMunicipality', 0.87953054904937744),\n",
       " ('campus', 'service', 0.87945950031280518),\n",
       " ('routeJunction', 'homeport', 0.87932449579238892),\n",
       " ('prospectTeam', 'march', 0.87924033403396606),\n",
       " ('film', 'closingFilm', 0.87923306226730347),\n",
       " ('headChef', 'fourthCommander', 0.87916535139083862),\n",
       " ('rightChild', 'lastWin', 0.87896239757537842),\n",
       " ('capital', 'ground', 0.87890797853469849),\n",
       " ('illustrator', 'narrator', 0.87867701053619385),\n",
       " ('creativeDirector', 'winsAtJapan', 0.87838691473007202),\n",
       " ('areaOfSearch', 'thirdDriverCountry', 0.87835675477981567),\n",
       " ('alumni', 'pastMember', 0.87835514545440674),\n",
       " ('europeanParliamentGroup', 'service', 0.8783339262008667),\n",
       " ('regionServed', 'citizenship', 0.87826085090637207),\n",
       " ('billed', 'residence', 0.87811738252639771),\n",
       " ('ceo', 'waterwayThroughTunnel', 0.87800687551498413),\n",
       " ('management', 'service', 0.87799602746963501),\n",
       " ('locationCity', 'restingPlace', 0.87799495458602905),\n",
       " ('management', 'governmentType', 0.87785744667053223),\n",
       " ('schoolBoard', 'product', 0.87766933441162109),\n",
       " ('capital', 'routeEndLocation', 0.87758052349090576),\n",
       " ('grandsire', 'sire', 0.87749344110488892),\n",
       " ('field', 'academicDiscipline', 0.87738531827926636),\n",
       " ('secondPopularVote', 'pastMember', 0.8773798942565918),\n",
       " ('endingTheme', 'closingFilm', 0.87735921144485474),\n",
       " ('location', 'principalArea', 0.87731695175170898),\n",
       " ('occupation', 'mainInterest', 0.87728947401046753),\n",
       " ('principalArea', 'routeEndLocation', 0.87708193063735962),\n",
       " ('grandsire', 'raceHorse', 0.87707948684692383),\n",
       " ('mouthCountry', 'stateOfOrigin', 0.87706661224365234),\n",
       " ('billed', 'homeport', 0.8769298791885376),\n",
       " ('structuralSystem', 'vicePrimeMinister', 0.87686413526535034),\n",
       " ('locationCountry', 'citizenship', 0.87675893306732178),\n",
       " ('portrayer', 'executiveProducer', 0.87672781944274902),\n",
       " ('usingCountry', 'populationPlace', 0.87672585248947144),\n",
       " ('season', 'museum', 0.87669694423675537),\n",
       " ('typeOfElectrification', 'product', 0.87658172845840454),\n",
       " ('unitaryAuthority', 'location', 0.87644439935684204),\n",
       " ('locationCity', 'routeEndLocation', 0.87642276287078857),\n",
       " ('internationalAffiliation', 'profession', 0.87633949518203735),\n",
       " ('mouthPlace', 'largestCity', 0.8762204647064209),\n",
       " ('capital', 'residence', 0.87619775533676147),\n",
       " ('managementMountain', 'organisation', 0.87615704536437988),\n",
       " ('sheading', 'sourceConfluenceState', 0.87599259614944458),\n",
       " ('billed', 'mouthPlace', 0.87598133087158203),\n",
       " ('majorIsland', 'restingPlace', 0.87585610151290894),\n",
       " ('administrator', 'recentWinner', 0.87570583820343018),\n",
       " ('field', 'literaryGenre', 0.87561887502670288),\n",
       " ('countySeat', 'ground', 0.87555140256881714),\n",
       " ('parish', 'silverMedalist', 0.87544882297515869),\n",
       " ('typeOfElectrification', 'nonFictionSubject', 0.87541282176971436),\n",
       " ('aircraftHelicopterTransport', 'parish', 0.87535774707794189),\n",
       " ('oilSystem', 'currentMember', 0.87535393238067627),\n",
       " ('order', 'management', 0.87533020973205566),\n",
       " ('residence', 'locationCity', 0.87532162666320801),\n",
       " ('stylisticOrigin', 'musicSubgenre', 0.87528467178344727),\n",
       " ('nonFictionSubject', 'service', 0.87502694129943848),\n",
       " ('philosophicalSchool', 'era', 0.87499046325683594),\n",
       " ('aircraftHelicopterUtility', 'governmentCountry', 0.87497121095657349),\n",
       " ('aircraftHelicopterObservation', 'winsAtChallenges', 0.87492930889129639),\n",
       " ('closingFilm', 'nationalAffiliation', 0.87485224008560181),\n",
       " ('politicalPartyOfLeader', 'party', 0.87484437227249146),\n",
       " ('majorIsland', 'foundationPlace', 0.87472105026245117),\n",
       " ('prospectTeam', 'highestPlace', 0.87471151351928711),\n",
       " ('sheading', 'namedAfter', 0.87468725442886353),\n",
       " ('mouthPlace', 'homeport', 0.87462961673736572),\n",
       " ('oilSystem', 'winsAtChallenges', 0.87456727027893066),\n",
       " ('capital', 'locationCity', 0.87443637847900391),\n",
       " ('march', 'beltwayCity', 0.87441462278366089),\n",
       " ('governmentType', 'biome', 0.87433701753616333),\n",
       " ('part', 'homeport', 0.87412196397781372),\n",
       " ('ground', 'twinTown', 0.87403857707977295),\n",
       " ('comparable', 'fourthCommander', 0.87389659881591797),\n",
       " ('secretaryGeneral', 'originalLanguage', 0.87389218807220459),\n",
       " ('philosophicalSchool', 'anthem', 0.87388962507247925),\n",
       " ('governingBody', 'service', 0.87380039691925049),\n",
       " ('politicalPartyOfLeader', 'leaderParty', 0.87379533052444458),\n",
       " ('format', 'pictureFormat', 0.87377351522445679),\n",
       " ('sheading', 'comparable', 0.8737608790397644),\n",
       " ('dean', 'governmentCountry', 0.87361937761306763),\n",
       " ('product', 'service', 0.87360650300979614),\n",
       " ('governingBody', 'vicePrimeMinister', 0.87352824211120605),\n",
       " ('prospectLeague', 'literaryGenre', 0.87350767850875854),\n",
       " ('routeJunction', 'routeStart', 0.87348049879074097),\n",
       " ('sourceCountry', 'citizenship', 0.87330526113510132),\n",
       " ('industry', 'cpu', 0.87324851751327515),\n",
       " ('architecturalStyle', 'chaplain', 0.87317723035812378),\n",
       " ('metropolitanBorough', 'restingPlace', 0.87312847375869751),\n",
       " ('trustee', 'aircraftHelicopterUtility', 0.87306267023086548),\n",
       " ('recordLabel', 'distributingLabel', 0.87293606996536255),\n",
       " ('architecturalStyle', 'campus', 0.87293058633804321),\n",
       " ('areaOfSearch', 'chairman', 0.8727838397026062),\n",
       " ('sheading', 'isPartOfAnatomicalStructure', 0.87277990579605103),\n",
       " ('nrhpType', 'secretaryGeneral', 0.87266319990158081),\n",
       " ('typeOfElectrification', 'cpu', 0.87259602546691895),\n",
       " ('orogeny', 'winsAtMajors', 0.8725745677947998),\n",
       " ('legalForm', 'march', 0.87257063388824463),\n",
       " ('oilSystem', 'lowestMountain', 0.87251991033554077),\n",
       " ('addressInRoad', 'fourthCommander', 0.87248408794403076),\n",
       " ('isPartOfAnatomicalStructure', 'sport', 0.87247514724731445),\n",
       " ('engineer', 'generalManager', 0.87240743637084961),\n",
       " ('musicComposer', 'musicBy', 0.87227064371109009),\n",
       " ('prospectLeague', 'congressionalDistrict', 0.87225103378295898),\n",
       " ('coverArtist', 'guest', 0.87221294641494751),\n",
       " ('wineRegion', 'compiler', 0.87200385332107544),\n",
       " ('campus', 'chaplain', 0.87190425395965576),\n",
       " ('philosophicalSchool', 'mainInterest', 0.87189567089080811),\n",
       " ('film', 'season', 0.87189126014709473),\n",
       " ('fuelSystem', 'chef', 0.8718637228012085),\n",
       " ('alumni', 'currentMember', 0.87184619903564453),\n",
       " ('routeJunction', 'city', 0.8717191219329834),\n",
       " ('viceChancellor', 'administrativeCollectivity', 0.87164199352264404),\n",
       " ('billed', 'largestSettlement', 0.87161177396774292),\n",
       " ('component', 'lowestState', 0.87158745527267456),\n",
       " ('portrayer', 'storyEditor', 0.8715285062789917),\n",
       " ('mythology', 'governmentPlace', 0.87152248620986938),\n",
       " ('damage', 'equipment', 0.87146127223968506),\n",
       " ('vein', 'album', 0.87140572071075439),\n",
       " ('taoiseach', 'thirdDriverCountry', 0.87138038873672485),\n",
       " ('mergedIntoParty', 'organisation', 0.87126016616821289),\n",
       " ('veneratedIn', 'rector', 0.87120163440704346),\n",
       " ('profession', 'firstRace', 0.87116289138793945),\n",
       " ('addressInRoad', 'mergedIntoParty', 0.87113898992538452),\n",
       " ('structuralSystem', 'constructionMaterial', 0.87107384204864502),\n",
       " ('militaryRank', 'powerType', 0.87097615003585815),\n",
       " ('unitaryAuthority', 'mouthRegion', 0.87088638544082642),\n",
       " ('deathPlace', 'majorIsland', 0.87086349725723267),\n",
       " ('isPartOfAnatomicalStructure', 'rector', 0.87084847688674927),\n",
       " ('keyPerson', 'service', 0.87076073884963989),\n",
       " ('firstWin', 'lastWin', 0.87068659067153931),\n",
       " ('closingFilm', 'jointCommunity', 0.8706822395324707),\n",
       " ('spokenIn', 'canonizedPlace', 0.87062376737594604),\n",
       " ('routeEnd', 'agency', 0.87051844596862793),\n",
       " ('homeport', 'metropolitanBorough', 0.87044590711593628),\n",
       " ('europeanParliamentGroup', 'rocketFunction', 0.87035131454467773),\n",
       " ('architecturalStyle', 'closingFilm', 0.87034851312637329),\n",
       " ('nonFictionSubject', 'keyPerson', 0.87020879983901978),\n",
       " ('currentMember', 'equipment', 0.87018924951553345),\n",
       " ('lowestMountain', 'artery', 0.87017810344696045),\n",
       " ('foundationPlace', 'highestMountain', 0.87012869119644165),\n",
       " ('headChef', 'taoiseach', 0.87001615762710571),\n",
       " ('headquarter', 'picture', 0.87000268697738647),\n",
       " ('highschool', 'dean', 0.86998540163040161),\n",
       " ('location', 'capital', 0.86993831396102905),\n",
       " ('sheading', 'film', 0.8696863055229187),\n",
       " ('profession', 'notableIdea', 0.86963611841201782),\n",
       " ('creativeDirector', 'damage', 0.86957705020904541),\n",
       " ('deathPlace', 'billed', 0.86956185102462769),\n",
       " ('governingBody', 'award', 0.86950790882110596),\n",
       " ('routeEnd', 'neighboringMunicipality', 0.86947649717330933),\n",
       " ('chaplain', 'rebuilder', 0.86945134401321411),\n",
       " ('highestMountain', 'arrondissement', 0.86944758892059326),\n",
       " ('typeOfElectrification', 'powerType', 0.8694232702255249),\n",
       " ('spokenIn', 'citizenship', 0.86927950382232666),\n",
       " ('lastWin', 'museum', 0.869243323802948),\n",
       " ('prospectLeague', 'youthWing', 0.86920160055160522),\n",
       " ('europeanParliamentGroup', 'winsAtNWIDE', 0.86912691593170166),\n",
       " ('product', 'cpu', 0.8690875768661499),\n",
       " ('nrhpType', 'originalLanguage', 0.86896556615829468),\n",
       " ('structuralSystem', 'management', 0.86884015798568726),\n",
       " ('cultivatedVariety', 'rector', 0.86881059408187866),\n",
       " ('billed', 'principalArea', 0.86880362033843994),\n",
       " ('prospectLeague', 'currentMember', 0.86872905492782593),\n",
       " ('billed', 'largestCity', 0.86869025230407715),\n",
       " ('vein', 'sheading', 0.86868137121200562),\n",
       " ('administrator', 'associatedRocket', 0.86867976188659668),\n",
       " ('majorIsland', 'metropolitanBorough', 0.86866098642349243),\n",
       " ('sourceConfluence', 'originalStartPoint', 0.86862093210220337),\n",
       " ('lowestMountain', 'museum', 0.86859780550003052),\n",
       " ('billed', 'locationCity', 0.86855870485305786),\n",
       " ('splitFromParty', 'leaderParty', 0.86849337816238403),\n",
       " ('prospectLeague', 'rector', 0.86826819181442261),\n",
       " ('typeOfElectrification', 'rocketFunction', 0.8682258129119873),\n",
       " ('nrhpType', 'cpu', 0.8682253360748291),\n",
       " ('largestCity', 'routeStart', 0.868202805519104),\n",
       " ('europeanParliamentGroup', 'militaryRank', 0.8681367039680481),\n",
       " ('damage', 'chairman', 0.86810111999511719),\n",
       " ('ground', 'routeEndLocation', 0.86799019575119019),\n",
       " ('secondDriverCountry', 'fourthCommander', 0.86798989772796631),\n",
       " ('mouthMountain', 'sourceConfluencePlace', 0.86797177791595459),\n",
       " ('poleDriverCountry', 'aircraftHelicopterMultirole', 0.86788815259933472),\n",
       " ('profession', 'generalManager', 0.86788260936737061),\n",
       " ('mainInterest', 'generalManager', 0.8677971363067627),\n",
       " ('product', 'powerType', 0.86771303415298462),\n",
       " ('film', 'mainInterest', 0.8677101731300354),\n",
       " ('isPartOf', 'sourceConfluencePlace', 0.86765956878662109),\n",
       " ('militaryRank', 'discipline', 0.86764931678771973),\n",
       " ('campus', 'biome', 0.8676142692565918),\n",
       " ('nationality', 'citizenship', 0.86757552623748779),\n",
       " ('editing', 'writer', 0.86749988794326782),\n",
       " ('academicDiscipline', 'structuralSystem', 0.86738073825836182),\n",
       " ('creativeDirector', 'recentWinner', 0.86737567186355591),\n",
       " ('management', 'class', 0.86728018522262573),\n",
       " ('profession', 'europeanParliamentGroup', 0.86723297834396362),\n",
       " ('whaDraftTeam', 'lastWin', 0.86721330881118774),\n",
       " ('club', 'namedAfter', 0.86719566583633423),\n",
       " ('flagBearer', 'spokesperson', 0.86716991662979126),\n",
       " ('aircraftHelicopterUtility', 'pastMember', 0.86700493097305298),\n",
       " ('incumbent', 'lowestMountain', 0.86696505546569824),\n",
       " ('fuelSystem', 'damage', 0.86693394184112549),\n",
       " ('product', 'mainInterest', 0.86691886186599731),\n",
       " ('academicDiscipline', 'mainInterest', 0.86691826581954956),\n",
       " ('field', 'secretaryGeneral', 0.86687791347503662),\n",
       " ('officerInCharge', 'binomial', 0.86677920818328857),\n",
       " ('industry', 'governingBody', 0.86673575639724731),\n",
       " ('academicDiscipline', 'powerType', 0.86671072244644165),\n",
       " ('occupation', 'closingFilm', 0.86668431758880615),\n",
       " ('aircraftHelicopterCargo', 'equipment', 0.86647725105285645),\n",
       " ('philosophicalSchool', 'occupation', 0.86636382341384888),\n",
       " ('militaryRank', 'head', 0.86636370420455933),\n",
       " ('militaryRank', 'academicDiscipline', 0.86632072925567627),\n",
       " ('brand', 'whaDraftTeam', 0.86628961563110352),\n",
       " ('closingFilm', 'binomial', 0.86616551876068115),\n",
       " ('assembly', 'location', 0.86616146564483643),\n",
       " ('governmentPlace', 'museum', 0.86607170104980469),\n",
       " ('typeOfElectrification', 'winsAtNWIDE', 0.86605602502822876),\n",
       " ('damage', 'recentWinner', 0.86604750156402588),\n",
       " ('europeanParliamentGroup', 'notableIdea', 0.86600667238235474),\n",
       " ('addressInRoad', 'subregion', 0.86597836017608643),\n",
       " ('profession', 'discipline', 0.86593508720397949),\n",
       " ('narrator', 'starring', 0.86580705642700195),\n",
       " ('component', 'winsAtChampionships', 0.86580449342727661),\n",
       " ('editor', 'starring', 0.86579543352127075),\n",
       " ('winsAtChallenges', 'lymph', 0.86574679613113403),\n",
       " ('residence', 'hometown', 0.8657299280166626),\n",
       " ('island', 'chiefEditor', 0.86563783884048462),\n",
       " ('trustee', 'governmentCountry', 0.86563640832901001),\n",
       " ('officialLanguage', 'language', 0.86561113595962524),\n",
       " ('thirdDriverCountry', 'subregion', 0.865589439868927),\n",
       " ('industry', 'mainInterest', 0.86548376083374023),\n",
       " ('damsire', 'raceHorse', 0.86546629667282104),\n",
       " ('teachingStaff', 'lymph', 0.86536425352096558),\n",
       " ('rightChild', 'damage', 0.86532300710678101),\n",
       " ('flagBearer', 'campus', 0.86525750160217285),\n",
       " ('product', 'programmeFormat', 0.86524039506912231),\n",
       " ('fastestDriver', 'secondCommander', 0.86518293619155884),\n",
       " ('billed', 'location', 0.86512106657028198),\n",
       " ('aircraftHelicopterUtility', 'winsAtJapan', 0.86502408981323242),\n",
       " ('keyPerson', 'governingBody', 0.86502224206924438),\n",
       " ('mainInterest', 'closingFilm', 0.86495816707611084),\n",
       " ('chiefEditor', 'nonFictionSubject', 0.86495691537857056),\n",
       " ('voice', 'writer', 0.86494600772857666),\n",
       " ('addressInRoad', 'lowestState', 0.86489808559417725),\n",
       " ('organSystem', 'lastWin', 0.86480659246444702),\n",
       " ('endingTheme', 'comparable', 0.86476516723632812),\n",
       " ('philosophicalSchool', 'academicDiscipline', 0.86475026607513428),\n",
       " ('mythology', 'opponent', 0.86474341154098511),\n",
       " ('aircraftFighter', 'aircraftInterceptor', 0.8647085428237915),\n",
       " ('flagBearer', 'film', 0.86470448970794678),\n",
       " ('firstAscentPerson', 'blockAlloy', 0.86451154947280884),\n",
       " ('nationalAffiliation', 'museum', 0.86431235074996948),\n",
       " ('location', 'arrondissement', 0.86414003372192383),\n",
       " ('aircraftHelicopterObservation', 'lymph', 0.86413669586181641),\n",
       " ('secondCommander', 'leftChild', 0.86412966251373291),\n",
       " ('campus', 'generalManager', 0.86406975984573364),\n",
       " ('lowestMountain', 'governmentPlace', 0.86395794153213501),\n",
       " ('headAlloy', 'organisation', 0.86392843723297119),\n",
       " ('winsAtChampionships', 'fourthCommander', 0.86386227607727051),\n",
       " ('film', 'biome', 0.86368602514266968),\n",
       " ('currentMember', 'lowestMountain', 0.86365044116973877),\n",
       " ('secondPopularVote', 'brand', 0.86360275745391846),\n",
       " ('headChef', 'thirdDriverCountry', 0.86359208822250366),\n",
       " ('film', 'lowestMountain', 0.86346960067749023),\n",
       " ('schoolPatron', 'mostWins', 0.86346769332885742),\n",
       " ('arrondissement', 'restingPlace', 0.86337059736251831),\n",
       " ('countryOrigin', 'mouthCountry', 0.86335605382919312),\n",
       " ('associatedRocket', 'winsAtPGA', 0.86332911252975464),\n",
       " ('coverArtist', 'gameArtist', 0.86332309246063232),\n",
       " ('binomial', 'administrativeCollectivity', 0.86329209804534912),\n",
       " ('alumni', 'parish', 0.86329138278961182),\n",
       " ('structuralSystem', 'closingFilm', 0.86314243078231812),\n",
       " ('notableIdea', 'nonFictionSubject', 0.86313545703887939),\n",
       " ('addressInRoad', 'nextEvent', 0.86312752962112427),\n",
       " ('secondPopularVote', 'wineRegion', 0.86305713653564453),\n",
       " ('routeEndLocation', 'city', 0.86303502321243286),\n",
       " ('prospectLeague', 'closingFilm', 0.86302435398101807),\n",
       " ('championInDoubleFemale', 'museum', 0.86301636695861816),\n",
       " ('profession', 'ingredient', 0.86301296949386597),\n",
       " ('sheading', 'chaplain', 0.86301219463348389),\n",
       " ('picture', 'locatedInArea', 0.8629004955291748),\n",
       " ('addressInRoad', 'thirdDriverCountry', 0.86288696527481079),\n",
       " ('endingTheme', 'winsAtChallenges', 0.86284935474395752),\n",
       " ('winsAtJapan', 'government', 0.8628075122833252),\n",
       " ('chancellor', 'associate', 0.86279362440109253),\n",
       " ('starring', 'writer', 0.8626825213432312),\n",
       " ('profession', 'architecturalStyle', 0.86267620325088501),\n",
       " ('stateOfOrigin', 'citizenship', 0.86265939474105835),\n",
       " ('academicDiscipline', 'film', 0.86264330148696899),\n",
       " ('film', 'winsAtNWIDE', 0.86259424686431885),\n",
       " ('deathPlace', 'homeport', 0.86250525712966919),\n",
       " ('winsAtJapan', 'season', 0.86243873834609985),\n",
       " ('incumbent', 'nationalAffiliation', 0.8624078631401062),\n",
       " ('veneratedIn', 'isPartOfAnatomicalStructure', 0.86239886283874512),\n",
       " ('hasVariant', 'management', 0.86237907409667969),\n",
       " ('executiveProducer', 'writer', 0.86237645149230957),\n",
       " ('almaMater', 'institution', 0.86236906051635742),\n",
       " ('occupation', 'product', 0.86235642433166504),\n",
       " ('keyPerson', 'management', 0.86224335432052612),\n",
       " ('aircraftHelicopterCargo', 'endingTheme', 0.86222422122955322),\n",
       " ('part', 'metropolitanBorough', 0.86220932006835938),\n",
       " ('winsAtMajors', 'lastWin', 0.86220097541809082),\n",
       " ('brand', 'recentWinner', 0.86219501495361328),\n",
       " ('part', 'twinTown', 0.86214601993560791),\n",
       " ('occupation', 'lowestMountain', 0.86202377080917358),\n",
       " ('profession', 'film', 0.86201965808868408),\n",
       " ('march', 'governmentPlace', 0.86196166276931763),\n",
       " ('aircraftFighter', 'aircraftTrainer', 0.86195403337478638),\n",
       " ('parish', 'statisticLabel', 0.8618817925453186),\n",
       " ('blockAlloy', 'service', 0.86183291673660278),\n",
       " ('location', 'residence', 0.86182057857513428),\n",
       " ('gameEngine', 'operatingSystem', 0.8616943359375),\n",
       " ('nationalAffiliation', 'taoiseach', 0.86167824268341064),\n",
       " ('currentMember', 'recentWinner', 0.86159491539001465),\n",
       " ('outflow', 'rightTributary', 0.86154484748840332),\n",
       " ('billed', 'foundationPlace', 0.86152166128158569),\n",
       " ('winsAtChallenges', 'chairman', 0.86141091585159302),\n",
       " ('starring', 'foundedBy', 0.86140382289886475),\n",
       " ('oilSystem', 'areaOfSearch', 0.86137986183166504),\n",
       " ('largestSettlement', 'twinTown', 0.86127763986587524),\n",
       " ('architecturalStyle', 'lowestMountain', 0.86124926805496216),\n",
       " ('administrator', 'currentMember', 0.86113089323043823),\n",
       " ('administrator', 'languageRegulator', 0.86107248067855835),\n",
       " ('portrayer', 'voice', 0.86105358600616455),\n",
       " ('institution', 'education', 0.86101019382476807),\n",
       " ('militaryRank', 'mainInterest', 0.8610033392906189),\n",
       " ('part', 'birthPlace', 0.8609154224395752),\n",
       " ('alumni', 'clubsRecordGoalscorer', 0.86085033416748047),\n",
       " ('vicePrimeMinister', 'powerType', 0.86081528663635254),\n",
       " ('firstAscentPerson', 'mainInterest', 0.86074620485305786),\n",
       " ('regionServed', 'canonizedPlace', 0.86060506105422974),\n",
       " ('clubsRecordGoalscorer', 'pastMember', 0.8605806827545166),\n",
       " ('foundationPlace', 'city', 0.86045515537261963),\n",
       " ('discipline', 'academicDiscipline', 0.86043167114257812),\n",
       " ('constructionMaterial', 'pictureFormat', 0.86041384935379028),\n",
       " ('majorIsland', 'arrondissement', 0.86038404703140259),\n",
       " ('narrator', 'voice', 0.86027407646179199),\n",
       " ('endingTheme', 'lastWin', 0.86024057865142822),\n",
       " ('typeOfElectrification', 'constructionMaterial', 0.86023640632629395),\n",
       " ('birthPlace', 'metropolitanBorough', 0.86015921831130981),\n",
       " ('aircraftHelicopterCargo', 'sheading', 0.86012351512908936),\n",
       " ('school', 'twinTown', 0.86006826162338257),\n",
       " ('automobilePlatform', 'biome', 0.86005723476409912),\n",
       " ('engineer', 'film', 0.86002868413925171),\n",
       " ('industry', 'nonFictionSubject', 0.86002379655838013),\n",
       " ('cpu', 'winsAtNWIDE', 0.8600233793258667),\n",
       " ('typeOfElectrification', 'campus', 0.8600003719329834),\n",
       " ('taoiseach', 'subregion', 0.85993784666061401),\n",
       " ('industry', 'sheading', 0.8599281907081604),\n",
       " ('rightChild', 'administrator', 0.85987406969070435),\n",
       " ('industry', 'occupation', 0.85986113548278809),\n",
       " ('beltwayCity', 'governmentPlace', 0.85979348421096802),\n",
       " ('nrhpType', 'award', 0.8597673773765564),\n",
       " ('management', 'powerType', 0.85969877243041992),\n",
       " ('narrator', 'director', 0.85969191789627075),\n",
       " ('legalForm', 'lastFlight', 0.85968565940856934),\n",
       " ('winsAtMajors', 'winsAtJapan', 0.85955476760864258),\n",
       " ('sourceCountry', 'regionServed', 0.85954833030700684),\n",
       " ('militaryRank', 'closingFilm', 0.85954463481903076),\n",
       " ('nationalAffiliation', 'season', 0.85949951410293579),\n",
       " ('campus', 'management', 0.85937809944152832),\n",
       " ('firstLaunchRocket', 'lastWin', 0.85935449600219727),\n",
       " ('sourceConfluence', 'compiler', 0.85933959484100342),\n",
       " ('alumni', 'aircraftHelicopterCargo', 0.8592105507850647),\n",
       " ('deathPlace', 'premierePlace', 0.85912704467773438),\n",
       " ('film', 'architecturalStyle', 0.85907047986984253),\n",
       " ('clubsRecordGoalscorer', 'vicePrimeMinister', 0.85902833938598633),\n",
       " ('recentWinner', 'winsAtJapan', 0.858967125415802),\n",
       " ('race', 'raceHorse', 0.85895878076553345),\n",
       " ('militaryRank', 'binomial', 0.85888075828552246),\n",
       " ('mythology', 'lastFlight', 0.85887938737869263),\n",
       " ('highestState', 'museum', 0.85879808664321899),\n",
       " ('class', 'engineType', 0.85874134302139282),\n",
       " ('film', 'management', 0.85872763395309448),\n",
       " ('federalState', 'headquarter', 0.85872358083724976),\n",
       " ('headChef', 'addressInRoad', 0.85872268676757812),\n",
       " ('prospectLeague', 'prospectTeam', 0.8587028980255127),\n",
       " ('majorIsland', 'routeEnd', 0.85869187116622925),\n",
       " ('endingTheme', 'schoolPatron', 0.85865616798400879),\n",
       " ('film', 'vicePrimeMinister', 0.8586394190788269),\n",
       " ('foundationPlace', 'destination', 0.85862785577774048),\n",
       " ('mythology', 'vicePrincipal', 0.85862594842910767),\n",
       " ('club', 'cpu', 0.85857886075973511),\n",
       " ('militaryRank', 'incumbent', 0.85857194662094116),\n",
       " ('profession', 'binomial', 0.85853952169418335),\n",
       " ('headChef', 'areaOfSearch', 0.85846519470214844),\n",
       " ('lastWin', 'rector', 0.85841256380081177),\n",
       " ('originalStartPoint', 'season', 0.85837739706039429),\n",
       " ('aircraftHelicopterUtility', 'youthWing', 0.85837548971176147),\n",
       " ('currentMember', 'statisticLabel', 0.8583296537399292),\n",
       " ('politicalPartyOfLeader', 'leaderName', 0.85828530788421631),\n",
       " ('producer', 'executiveProducer', 0.85828250646591187),\n",
       " ('birthPlace', 'largestCity', 0.85827142000198364),\n",
       " ('destination', 'routeEndLocation', 0.85821294784545898),\n",
       " ('closingFilm', 'rebuilder', 0.85820519924163818),\n",
       " ('industry', 'pictureFormat', 0.85812294483184814),\n",
       " ('incumbent', 'mostWins', 0.85804569721221924),\n",
       " ('hometown', 'headquarter', 0.85801404714584351),\n",
       " ('billed', 'majorIsland', 0.85801148414611816),\n",
       " ('cultivatedVariety', 'ingredient', 0.85797888040542603),\n",
       " ('varietals', 'race', 0.85791730880737305),\n",
       " ('headChef', 'mergedIntoParty', 0.85782861709594727),\n",
       " ('academicDiscipline', 'nationalAffiliation', 0.85781365633010864),\n",
       " ('executiveProducer', 'voice', 0.85779792070388794),\n",
       " ('largestCity', 'ground', 0.8577960729598999),\n",
       " ('sourceCountry', 'secondDriverCountry', 0.85777831077575684),\n",
       " ('cultivatedVariety', 'prospectLeague', 0.85776352882385254),\n",
       " ('governingBody', 'management', 0.85775357484817505),\n",
       " ('associate', 'governorGeneral', 0.85774445533752441),\n",
       " ('part', 'ground', 0.85774314403533936),\n",
       " ('nationalAffiliation', 'firstPopularVote', 0.85772925615310669),\n",
       " ('incumbent', 'museum', 0.85769104957580566),\n",
       " ('clubsRecordGoalscorer', 'structuralSystem', 0.85765916109085083),\n",
       " ('otherParty', 'leaderName', 0.85762721300125122),\n",
       " ('governmentCountry', 'closingFilm', 0.85756582021713257),\n",
       " ('billed', 'headquarter', 0.85750937461853027),\n",
       " ('secondDriverCountry', 'winsAtChampionships', 0.85747438669204712),\n",
       " ('prospectLeague', 'aircraftHelicopterUtility', 0.85745251178741455),\n",
       " ('capital', 'headquarter', 0.85743743181228638),\n",
       " ('associatedRocket', 'chairman', 0.85742652416229248),\n",
       " ('industry', 'namedAfter', 0.85740655660629272),\n",
       " ('isPartOfAnatomicalStructure', 'lowestMountain', 0.85739922523498535),\n",
       " ('governmentPlace', 'rector', 0.85733211040496826),\n",
       " ('trustee', 'compiler', 0.85732239484786987),\n",
       " ('sheading', 'parish', 0.85728681087493896),\n",
       " ('hometown', 'homeport', 0.85702449083328247),\n",
       " ('administrator', 'silverMedalist', 0.85702162981033325),\n",
       " ('nrhpType', 'engineer', 0.85698997974395752),\n",
       " ('homeport', 'largestCity', 0.85688424110412598),\n",
       " ('closingFilm', 'isPartOfAnatomicalStructure', 0.85688221454620361),\n",
       " ('largestSettlement', 'ground', 0.85687971115112305),\n",
       " ('sourceCountry', 'canonizedPlace', 0.85686993598937988),\n",
       " ('europeanParliamentGroup', 'blockAlloy', 0.85686737298965454),\n",
       " ('mainInterest', 'binomial', 0.85685157775878906),\n",
       " ('format', 'instrument', 0.85684514045715332),\n",
       " ('product', 'film', 0.8568192720413208),\n",
       " ('product', 'engineType', 0.85672670602798462),\n",
       " ('nonFictionSubject', 'movement', 0.85671472549438477),\n",
       " ('organisation', 'thirdDriverCountry', 0.85653197765350342),\n",
       " ('dean', 'brand', 0.8564075231552124),\n",
       " ('philosophicalSchool', 'mediaType', 0.85639470815658569),\n",
       " ('film', 'incumbent', 0.85639005899429321),\n",
       " ('locationCountry', 'canonizedPlace', 0.85635542869567871),\n",
       " ('hometown', 'routeEndLocation', 0.85634368658065796),\n",
       " ('clubsRecordGoalscorer', 'currentMember', 0.85623300075531006),\n",
       " ('largestSettlement', 'birthPlace', 0.85615289211273193),\n",
       " ('areaOfSearch', 'organisation', 0.85613548755645752),\n",
       " ('generalManager', 'voiceType', 0.85609233379364014),\n",
       " ('highestMountain', 'state', 0.85604751110076904),\n",
       " ('clubsRecordGoalscorer', 'film', 0.85595136880874634),\n",
       " ('damage', 'officerInCharge', 0.8559499979019165),\n",
       " ('schoolBoard', 'sport', 0.85592013597488403),\n",
       " ('location', 'restingPlace', 0.85591989755630493),\n",
       " ('award', 'blockAlloy', 0.85590267181396484),\n",
       " ('parish', 'government', 0.85588282346725464),\n",
       " ('clubsRecordGoalscorer', 'winsAtJapan', 0.85587775707244873),\n",
       " ('billed', 'restingPlace', 0.85586822032928467),\n",
       " ('keyPerson', 'blockAlloy', 0.85580742359161377),\n",
       " ('firstLaunchRocket', 'statisticLabel', 0.85570603609085083),\n",
       " ('sourceConfluence', 'aircraftHelicopterUtility', 0.85566568374633789),\n",
       " ('cpu', 'governingBody', 0.85562974214553833),\n",
       " ('cpu', 'administrativeCollectivity', 0.85557818412780762),\n",
       " ('film', 'winsAtOtherTournaments', 0.85556966066360474),\n",
       " ('cpu', 'keyPerson', 0.85550504922866821),\n",
       " ('currentMember', 'museum', 0.85549443960189819),\n",
       " ('headChef', 'damage', 0.85548585653305054),\n",
       " ('architecturalStyle', 'generalManager', 0.8554728627204895),\n",
       " ('club', 'teachingStaff', 0.85543304681777954),\n",
       " ('nrhpType', 'series', 0.8554069995880127),\n",
       " ('governmentCountry', 'lastWin', 0.85534012317657471),\n",
       " ('taoiseach', 'nextEvent', 0.85533910989761353),\n",
       " ('philosophicalSchool', 'governmentPlace', 0.85531330108642578),\n",
       " ('training', 'biome', 0.85521781444549561),\n",
       " ('typeOfElectrification', 'architecturalStyle', 0.8552054762840271),\n",
       " ('endingTheme', 'winsAtJapan', 0.855185866355896),\n",
       " ('producer', 'writer', 0.85514509677886963),\n",
       " ('regionServed', 'country', 0.85510039329528809),\n",
       " ('hometown', 'metropolitanBorough', 0.85508584976196289),\n",
       " ('usingCountry', 'citizenship', 0.85507863759994507),\n",
       " ('deathPlace', 'metropolitanBorough', 0.85499340295791626),\n",
       " ('routeEnd', 'homeport', 0.85486555099487305),\n",
       " ('field', 'movement', 0.85486400127410889),\n",
       " ('whaDraftTeam', 'closingFilm', 0.85483914613723755),\n",
       " ('nrhpType', 'rocketFunction', 0.85483741760253906),\n",
       " ('currentMember', 'chairman', 0.85481292009353638),\n",
       " ('releaseLocation', 'rector', 0.85480588674545288),\n",
       " ('addressInRoad', 'winsAtChampionships', 0.85476750135421753),\n",
       " ('structuralSystem', 'biome', 0.85459285974502563),\n",
       " ('winterAppearances', 'vicePrimeMinister', 0.8545876145362854),\n",
       " ('superintendent', 'languageRegulator', 0.8545372486114502),\n",
       " ('fastestDriver', 'leftChild', 0.85448610782623291),\n",
       " ('headAlloy', 'chef', 0.85440057516098022),\n",
       " ('flagBearer', 'generalManager', 0.85437577962875366),\n",
       " ('trustee', 'originalStartPoint', 0.85436630249023438),\n",
       " ('arrondissement', 'mouthRegion', 0.85435348749160767),\n",
       " ('discipline', 'era', 0.85430246591567993),\n",
       " ('series', 'award', 0.8542822003364563),\n",
       " ('gameArtist', 'writer', 0.85424667596817017),\n",
       " ('equipment', 'religiousHead', 0.85422790050506592),\n",
       " ('capital', 'associationOfLocalGovernment', 0.85420870780944824),\n",
       " ('profession', 'closingFilm', 0.85420656204223633),\n",
       " ('birthPlace', 'arrondissement', 0.85415434837341309),\n",
       " ('typeOfElectrification', 'pictureFormat', 0.85413718223571777),\n",
       " ('narrator', 'foundedBy', 0.85406249761581421),\n",
       " ('currentMember', 'religiousHead', 0.85404634475708008),\n",
       " ('mouthPlace', 'city', 0.85400515794754028),\n",
       " ('profession', 'typeOfElectrification', 0.85398209095001221),\n",
       " ('wineRegion', 'winsAtChallenges', 0.85396891832351685),\n",
       " ('closingFilm', 'biome', 0.8539578914642334),\n",
       " ('endingTheme', 'namedAfter', 0.85395133495330811),\n",
       " ('order', 'programmeFormat', 0.85394012928009033),\n",
       " ('industry', 'keyPerson', 0.85392826795578003),\n",
       " ('europeanParliamentGroup', 'availableSmartCard', 0.85386765003204346),\n",
       " ('film', 'nationalAffiliation', 0.85385608673095703),\n",
       " ('whaDraftTeam', 'recentWinner', 0.85385507345199585),\n",
       " ('closingFilm', 'vicePrimeMinister', 0.85380703210830688),\n",
       " ('capital', 'restingPlace', 0.85379928350448608),\n",
       " ('profession', 'governmentType', 0.85378760099411011),\n",
       " ('residence', 'homeport', 0.85376697778701782),\n",
       " ('populationPlace', 'stateOfOrigin', 0.85375642776489258),\n",
       " ('aircraftFighter', 'architect', 0.85372120141983032),\n",
       " ('club', 'winsAtNWIDE', 0.85372048616409302),\n",
       " ('internationalAffiliation', 'generalManager', 0.85369718074798584),\n",
       " ('almaMater', 'university', 0.85366934537887573),\n",
       " ('secondPopularVote', 'damage', 0.85358661413192749),\n",
       " ('film', 'nonFictionSubject', 0.85357797145843506),\n",
       " ('chaplain', 'winsAtJapan', 0.85352253913879395),\n",
       " ('profession', 'engineer', 0.85351485013961792),\n",
       " ('discipline', 'notableIdea', 0.85351181030273438),\n",
       " ('automobilePlatform', 'management', 0.8535081148147583),\n",
       " ('winsAtNWIDE', 'administrativeCollectivity', 0.85347652435302734),\n",
       " ('vicePrimeMinister', 'management', 0.85346430540084839),\n",
       " ('aircraftHelicopterCargo', 'cpu', 0.8534315824508667),\n",
       " ('fourthCommander', 'lowestState', 0.85341179370880127),\n",
       " ('sheading', 'aircraftHelicopterMultirole', 0.85316425561904907),\n",
       " ('film', 'keyPerson', 0.85309797525405884),\n",
       " ('taoiseach', 'museum', 0.85302412509918213),\n",
       " ('structuralSystem', 'alliance', 0.85301482677459717),\n",
       " ('currentMember', 'taoiseach', 0.85300815105438232),\n",
       " ('militaryRank', 'nonFictionSubject', 0.85295945405960083),\n",
       " ('film', 'isPartOfAnatomicalStructure', 0.85283797979354858),\n",
       " ('aircraftHelicopterUtility', 'firstDriverCountry', 0.8527829647064209),\n",
       " ('industry', 'blockAlloy', 0.85274022817611694),\n",
       " ('order', 'biome', 0.85271370410919189),\n",
       " ('binomial', 'recentWinner', 0.85266238451004028),\n",
       " ('premierePlace', 'routeEndLocation', 0.85263586044311523),\n",
       " ('dean', 'whaDraftTeam', 0.85262846946716309),\n",
       " ('assembly', 'governmentMountain', 0.85262429714202881),\n",
       " ('ingredient', 'management', 0.85257977247238159),\n",
       " ('nonFictionSubject', 'binomial', 0.85250121355056763),\n",
       " ('pastor', 'chairperson', 0.85242730379104614),\n",
       " ('typeOfElectrification', 'chaplain', 0.85238218307495117),\n",
       " ('typeOfElectrification', 'mostWins', 0.85237115621566772),\n",
       " ('endingTheme', 'winsAtMajors', 0.85230755805969238),\n",
       " ('season', 'administrativeCollectivity', 0.85225611925125122),\n",
       " ('typeOfElectrification', 'ingredient', 0.85223978757858276),\n",
       " ('secondPopularVote', 'equipment', 0.85220181941986084),\n",
       " ('whaDraftTeam', 'governmentCountry', 0.85218781232833862),\n",
       " ('mergedIntoParty', 'lowestState', 0.85218077898025513),\n",
       " ('club', 'equipment', 0.85217756032943726),\n",
       " ('academicDiscipline', 'sport', 0.85211724042892456),\n",
       " ('profession', 'industry', 0.85208415985107422),\n",
       " ('currentMember', 'silverMedalist', 0.85200017690658569),\n",
       " ('silverMedalist', 'fourthCommander', 0.85196590423583984),\n",
       " ('nerve', 'previousEditor', 0.85196447372436523),\n",
       " ('hometown', 'locationCity', 0.85194891691207886),\n",
       " ('capital', 'metropolitanBorough', 0.85194599628448486),\n",
       " ('militaryRank', 'management', 0.85180199146270752),\n",
       " ('youthWing', 'opponent', 0.85179078578948975),\n",
       " ('structuralSystem', 'binomial', 0.85174709558486938),\n",
       " ('europeanParliamentGroup', 'governmentType', 0.85170060396194458),\n",
       " ('currentMember', 'teachingStaff', 0.85168832540512085),\n",
       " ('flagBearer', 'winsAtNWIDE', 0.85163688659667969),\n",
       " ('film', 'officerInCharge', 0.85162174701690674),\n",
       " ('damage', 'aircraftHelicopterObservation', 0.8515784740447998),\n",
       " ('rightChild', 'museum', 0.85155802965164185),\n",
       " ('club', 'subsequentInfrastructure', 0.85140460729598999),\n",
       " ('hometown', 'ground', 0.85138815641403198),\n",
       " ('generalManager', 'spokesperson', 0.85131150484085083),\n",
       " ('prospectLeague', 'lastWin', 0.85122841596603394),\n",
       " ('winsAtNWIDE', 'rocketFunction', 0.85120809078216553),\n",
       " ('winsAtMajors', 'compiler', 0.85119199752807617),\n",
       " ('organisation', 'fourthCommander', 0.85117912292480469),\n",
       " ('hometown', 'map', 0.85112810134887695),\n",
       " ('sportCountry', 'broadcastArea', 0.85112011432647705),\n",
       " ('campus', 'vehicle', 0.85104614496231079),\n",
       " ('clubsRecordGoalscorer', 'hybrid', 0.85100299119949341),\n",
       " ('format', 'governmentPlace', 0.85098862648010254),\n",
       " ('mythology', 'youthWing', 0.85093230009078979),\n",
       " ('europeanParliamentGroup', 'product', 0.85091710090637207),\n",
       " ('homeport', 'twinTown', 0.8508647084236145),\n",
       " ('nrhpType', 'notableIdea', 0.85082888603210449),\n",
       " ('militaryRank', 'cpu', 0.85081380605697632),\n",
       " ('musicBy', 'principal', 0.85077422857284546),\n",
       " ('jockey', 'winsAtNWIDE', 0.8507683277130127),\n",
       " ('veneratedIn', 'voiceType', 0.85074591636657715),\n",
       " ('flagBearer', 'architecturalStyle', 0.85069197416305542),\n",
       " ('occupation', 'film', 0.85068780183792114),\n",
       " ('incumbent', 'rector', 0.85068279504776001),\n",
       " ('instrument', 'powerType', 0.85067510604858398),\n",
       " ('hometown', 'mouthRegion', 0.85064578056335449),\n",
       " ('format', 'closingFilm', 0.85062944889068604),\n",
       " ('metropolitanBorough', 'district', 0.85054707527160645),\n",
       " ('schoolBoard', 'availableSmartCard', 0.85053116083145142),\n",
       " ('damage', 'lastFlight', 0.85050451755523682),\n",
       " ('architecturalStyle', 'vicePrimeMinister', 0.85043805837631226),\n",
       " ('secondPopularVote', 'officerInCharge', 0.85042685270309448),\n",
       " ('languageFamily', 'series', 0.85039222240447998),\n",
       " ('person', 'foundedBy', 0.85024815797805786),\n",
       " ('schoolBoard', 'mediaType', 0.85014331340789795),\n",
       " ('clubsRecordGoalscorer', 'incumbent', 0.85013902187347412),\n",
       " ('aircraftHelicopterUtility', 'mostWins', 0.8501008152961731),\n",
       " ('secondPopularVote', 'creativeDirector', 0.85009860992431641),\n",
       " ('endingTheme', 'equipment', 0.85008186101913452),\n",
       " ('automobilePlatform', 'class', 0.85006493330001831),\n",
       " ('mainInterest', 'powerType', 0.85003405809402466),\n",
       " ('industry', 'generalManager', 0.85000741481781006),\n",
       " ('anthem', 'era', 0.84999573230743408),\n",
       " ('schoolBoard', 'typeOfElectrification', 0.84992164373397827),\n",
       " ('format', 'lowestMountain', 0.84991270303726196),\n",
       " ('alumni', 'winsAtJapan', 0.84990835189819336),\n",
       " ('aircraftHelicopterMultirole', 'lowestState', 0.84986639022827148),\n",
       " ('fourthCommander', 'nextEvent', 0.84979331493377686),\n",
       " ('birthPlace', 'highestMountain', 0.84976637363433838),\n",
       " ('deathPlace', 'locationCity', 0.84974175691604614),\n",
       " ('teachingStaff', 'winsAtOtherTournaments', 0.84973925352096558),\n",
       " ('headChef', 'nextEvent', 0.84973835945129395),\n",
       " ('chaplain', 'vehicle', 0.8497319221496582),\n",
       " ('compiler', 'winsAtJapan', 0.84971517324447632),\n",
       " ('academicDiscipline', 'era', 0.84971272945404053),\n",
       " ('nonFictionSubject', 'availableSmartCard', 0.84969735145568848),\n",
       " ('structuralSystem', 'chaplain', 0.84967106580734253),\n",
       " ('profession', 'academicDiscipline', 0.84966236352920532),\n",
       " ('campus', 'governingBody', 0.84962922334671021),\n",
       " ('countryOrigin', 'regionServed', 0.84962046146392822),\n",
       " ('sportCountry', 'location', 0.84961378574371338),\n",
       " ('officerInCharge', 'season', 0.84956145286560059),\n",
       " ('engineer', 'mainInterest', 0.84946310520172119),\n",
       " ('birthPlace', 'agency', 0.8494524359703064),\n",
       " ('aircraftHelicopterCargo', 'parish', 0.84937387704849243),\n",
       " ('occupation', 'sheading', 0.84935802221298218),\n",
       " ('typeOfElectrification', 'structuralSystem', 0.84932255744934082),\n",
       " ('sourceConfluence', 'chaplain', 0.84932047128677368),\n",
       " ('aircraftHelicopterCargo',\n",
       "  'aircraftHelicopterObservation',\n",
       "  0.8493117094039917),\n",
       " ('alumni', 'secondPopularVote', 0.84922021627426147),\n",
       " ('gameArtist', 'narrator', 0.84919053316116333),\n",
       " ('location', 'homeport', 0.84918808937072754),\n",
       " ('location', 'ground', 0.84917205572128296),\n",
       " ('cultivatedVariety', 'originalLanguage', 0.84917062520980835),\n",
       " ('hybrid', 'intercommunality', 0.84912008047103882),\n",
       " ('engineType', 'sport', 0.84911924600601196),\n",
       " ('taoiseach', 'artery', 0.84910959005355835),\n",
       " ('majorIsland', 'hometown', 0.84910309314727783),\n",
       " ('secondPopularVote', 'oilSystem', 0.84905499219894409),\n",
       " ('rightChild', 'oilSystem', 0.84903967380523682),\n",
       " ('routeEnd', 'arrondissement', 0.84903663396835327),\n",
       " ('hometown', 'picture', 0.84894341230392456),\n",
       " ('nonFictionSubject', 'administrativeCollectivity', 0.84890758991241455),\n",
       " ('gender', 'literaryGenre', 0.84879302978515625),\n",
       " ('unitaryAuthority', 'birthPlace', 0.84876829385757446),\n",
       " ('head', 'powerType', 0.84874874353408813),\n",
       " ('product', 'governingBody', 0.84874057769775391),\n",
       " ('product', 'structuralSystem', 0.84865391254425049),\n",
       " ('headAlloy', 'thirdDriverCountry', 0.84865361452102661),\n",
       " ('layout', 'powerType', 0.84863919019699097),\n",
       " ('ceo', 'associatedRocket', 0.84859806299209595),\n",
       " ...]"
      ]
     },
     "execution_count": 188,
     "metadata": {},
     "output_type": "execute_result"
    }
   ],
   "source": [
    "sorted(pairs, key=lambda x: x[2], reverse=True)"
   ]
  }
 ],
 "metadata": {
  "kernelspec": {
   "display_name": "Python 3",
   "language": "python",
   "name": "python3"
  },
  "language_info": {
   "codemirror_mode": {
    "name": "ipython",
    "version": 3
   },
   "file_extension": ".py",
   "mimetype": "text/x-python",
   "name": "python",
   "nbconvert_exporter": "python",
   "pygments_lexer": "ipython3",
   "version": "3.5.2"
  }
 },
 "nbformat": 4,
 "nbformat_minor": 1
}
